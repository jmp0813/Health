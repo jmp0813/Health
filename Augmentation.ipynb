{
 "cells": [
  {
   "cell_type": "code",
   "execution_count": 1,
   "id": "tired-physics",
   "metadata": {},
   "outputs": [],
   "source": [
    "import tensorflow as tf\n",
    "import pandas as pd\n",
    "import numpy as np\n",
    "import tqdm\n",
    "\n",
    "from sklearn.preprocessing import StandardScaler\n",
    "from tensorflow import keras\n",
    "\n",
    "gpus = tf.config.experimental.list_physical_devices(\"GPU\")\n",
    "if gpus :\n",
    "    try :\n",
    "        tf.config.experimental.set_memory_growth(gpus[0], True)\n",
    "    except RuntimeError as e :\n",
    "        print(e)"
   ]
  },
  {
   "cell_type": "code",
   "execution_count": 2,
   "id": "exotic-tokyo",
   "metadata": {},
   "outputs": [],
   "source": [
    "time_length = 600\n",
    "n_feature = 6\n",
    "\n",
    "def makeTimeData(augmentData, time_length, col_names) :\n",
    "    originalFeatureData = np.empty(shape = (augmentData[\"id\"].unique().shape[0], time_length, len(col_names)))\n",
    "\n",
    "    i = 0\n",
    "    for idx in tqdm.tqdm(augmentData.index.unique()) :\n",
    "        originalFeatureData[i] = augmentData.loc[idx, col_names]\n",
    "        i += 1\n",
    "    return originalFeatureData"
   ]
  },
  {
   "cell_type": "code",
   "execution_count": 3,
   "id": "loving-bowling",
   "metadata": {},
   "outputs": [
    {
     "name": "stderr",
     "output_type": "stream",
     "text": [
      "100%|██████████| 1518/1518 [00:01<00:00, 1230.14it/s]\n",
      "100%|██████████| 1607/1607 [00:01<00:00, 1270.35it/s]\n"
     ]
    }
   ],
   "source": [
    "# Under class data Oversampling\n",
    "\n",
    "rawFeature = pd.read_csv(\"./RawData/train_features.csv\")\n",
    "rawTarget = pd.read_csv(\"./RawData/train_labels.csv\")\n",
    "rawFeature.index = rawFeature[\"id\"]\n",
    "realAxis = [\"id\", \"time\", \"acc_x\", \"acc_y\", \"acc_z\", 'gy_x', 'gy_y', \"gy_z\"]\n",
    "\n",
    "overClassTarget = rawTarget[rawTarget[\"label_desc\"] == \"Non-Exercise\"]\n",
    "overClassFeature = makeTimeData(rawFeature.loc[overClassTarget[\"id\"], :], time_length, realAxis[2:])\n",
    "\n",
    "underClassTarget = rawTarget[rawTarget[\"label_desc\"] != \"Non-Exercise\"].reset_index(drop = True)\n",
    "underClassFeature = makeTimeData(rawFeature.loc[underClassTarget[\"id\"], :], time_length, realAxis[2:])\n",
    "\n",
    "classCount = pd.DataFrame(rawTarget.groupby(\"label\").count()[\"id\"])\n",
    "classCount.loc[:, \"skew\"] = (classCount[\"id\"].max() - classCount[\"id\"]).astype(np.int32)\n",
    "\n",
    "tempTargetTable = pd.merge(underClassTarget.reset_index(), classCount.reset_index().drop(\"id\", axis = \"columns\")).sort_values(\"index\")\n",
    "tempTargetTable.index = tempTargetTable[\"index\"]\n",
    "tempTargetTable = tempTargetTable.drop(\"index\", axis = \"columns\")"
   ]
  },
  {
   "cell_type": "code",
   "execution_count": 6,
   "id": "aggressive-campus",
   "metadata": {},
   "outputs": [],
   "source": [
    "def to_aug_data(feature, target, label) :\n",
    "    newFeature = feature[target['label'] == label, :]\n",
    "    return newFeature\n",
    "\n",
    "newData_raw = to_aug_data(underClassFeature, underClassTarget, 0)\n",
    "newData = tf.data.Dataset.from_tensor_slices(newData_raw).shuffle(1000)\n",
    "newData = newData.batch(batch_size, drop_remainder = True).prefetch(1)"
   ]
  },
  {
   "cell_type": "code",
   "execution_count": 7,
   "id": "experienced-developer",
   "metadata": {},
   "outputs": [],
   "source": [
    "noise_size = 12\n",
    "batch_size = 4\n",
    "\n",
    "def createGenerator(n_units, noise_size) :\n",
    "    InputLayer = keras.layers.Input(shape = (time_length, noise_size))\n",
    "    Gen_RNN_1 = keras.layers.LSTM(n_units, return_sequences = True, recurrent_initializer = \"glorot_normal\")(InputLayer)\n",
    "    Gen_RNN_2 = keras.layers.LSTM(n_units, return_sequences = True, recurrent_initializer = \"glorot_normal\")(Gen_RNN_1)\n",
    "    Gen_RNN_3 = keras.layers.LSTM(n_feature, return_sequences = True, recurrent_initializer = \"glorot_normal\")(Gen_RNN_2)\n",
    "    Generator = keras.models.Model(inputs = InputLayer, outputs = Gen_RNN_3)\n",
    "    return Generator\n",
    "\n",
    "def createDiscriminator(n_units, noise_size) :\n",
    "    InputLayer = keras.layers.Input(shape = (time_length, n_feature))\n",
    "    Norm = keras.layers.experimental.preprocessing.Normalization()\n",
    "    Norm.adapt(newData_raw)\n",
    "    Normalize = Norm(InputLayer)\n",
    "    Dis_RNN_1 = keras.layers.LSTM(n_units, return_sequences = True, recurrent_initializer = \"glorot_normal\")(Normalize)\n",
    "    Dis_RNN_2 = keras.layers.LSTM(n_units, return_sequences = False, recurrent_initializer = \"glorot_normal\")(Dis_RNN_1)\n",
    "    Dis_RNN_3 = keras.layers.Dense(1, activation = \"sigmoid\")(Dis_RNN_2)\n",
    "    Discriminator = keras.models.Model(inputs = InputLayer, outputs = Dis_RNN_3)\n",
    "    return Discriminator\n",
    "\n",
    "def createGAN(Gen, Dis) :\n",
    "    GAN = keras.models.Sequential([Gen, Dis])\n",
    "    Dis.compile(loss = keras.losses.BinaryCrossentropy(), optimizer = keras.optimizers.Adam())\n",
    "    Dis.trainable = False\n",
    "    GAN.compile(loss = keras.losses.BinaryCrossentropy(), optimizer = keras.optimizers.Adam())\n",
    "    return GAN\n",
    "\n",
    "GAN = createGAN(createGenerator(10, 12), createDiscriminator(10, 12))\n",
    "\n",
    "def train_gan(gan, dataset, batch_size, noise_size, n_epochs = 200) :\n",
    "    gen, dis = GAN.layers\n",
    "    ()\n",
    "    for epoch in tqdm.tqdm(range(n_epochs)) :\n",
    "        for X_batch in dataset :\n",
    "            noise = tf.random.normal(shape = [batch_size, time_length, noise_size])\n",
    "            generated_series = gen(noise)\n",
    "            X_batch = tf.cast(X_batch, tf.float32)\n",
    "            fake_n_real = tf.concat([generated_series, X_batch], axis = 0)\n",
    "            y1 = tf.constant([[0.]] * batch_size + [[1.]] * batch_size)\n",
    "            dis.trainable = True\n",
    "            dis.train_on_batch(fake_n_real, y1)\n",
    "            print(dis.evaluate(fake_n_real, y1))\n",
    "            \n",
    "            noise = tf.random.normal(shape = [batch_size, time_length, noise_size])\n",
    "            y2 = tf.constant([[1.]] * batch_size)\n",
    "            dis.trainable = False\n",
    "            GAN.train_on_batch(noise, y2)\n",
    "    return"
   ]
  },
  {
   "cell_type": "code",
   "execution_count": 8,
   "id": "renewable-cement",
   "metadata": {
    "collapsed": true,
    "jupyter": {
     "outputs_hidden": true
    }
   },
   "outputs": [
    {
     "name": "stderr",
     "output_type": "stream",
     "text": [
      "  0%|          | 0/200 [00:00<?, ?it/s]"
     ]
    },
    {
     "name": "stdout",
     "output_type": "stream",
     "text": [
      "1/1 [==============================] - 0s 2ms/step - loss: 0.6762\n",
      "0.6761949062347412\n",
      "1/1 [==============================] - 0s 2ms/step - loss: 0.6949\n",
      "0.6949194669723511\n",
      "1/1 [==============================] - 0s 1ms/step - loss: 0.6386\n"
     ]
    },
    {
     "name": "stderr",
     "output_type": "stream",
     "text": [
      "  0%|          | 1/200 [00:14<46:34, 14.04s/it]"
     ]
    },
    {
     "name": "stdout",
     "output_type": "stream",
     "text": [
      "0.6385619640350342\n",
      "1/1 [==============================] - 0s 2ms/step - loss: 0.6607\n",
      "0.660715639591217\n",
      "1/1 [==============================] - 0s 1ms/step - loss: 0.6553\n",
      "0.6553254723548889\n",
      "1/1 [==============================] - 0s 2ms/step - loss: 0.6769\n"
     ]
    },
    {
     "name": "stderr",
     "output_type": "stream",
     "text": [
      "  1%|          | 2/200 [00:14<20:24,  6.19s/it]"
     ]
    },
    {
     "name": "stdout",
     "output_type": "stream",
     "text": [
      "0.6769297122955322\n",
      "1/1 [==============================] - 0s 1ms/step - loss: 0.6926\n",
      "0.6925989389419556\n",
      "1/1 [==============================] - 0s 2ms/step - loss: 0.6506\n",
      "0.6506266593933105\n",
      "1/1 [==============================] - 0s 2ms/step - loss: 0.6375\n"
     ]
    },
    {
     "name": "stderr",
     "output_type": "stream",
     "text": [
      "  2%|▏         | 3/200 [00:15<12:04,  3.68s/it]"
     ]
    },
    {
     "name": "stdout",
     "output_type": "stream",
     "text": [
      "0.6374955177307129\n",
      "1/1 [==============================] - 0s 1ms/step - loss: 0.6442\n",
      "0.6442466378211975\n",
      "1/1 [==============================] - 0s 2ms/step - loss: 0.6631\n",
      "0.6630685329437256\n",
      "1/1 [==============================] - 0s 2ms/step - loss: 0.6620\n"
     ]
    },
    {
     "name": "stderr",
     "output_type": "stream",
     "text": [
      "  2%|▏         | 4/200 [00:16<08:07,  2.49s/it]"
     ]
    },
    {
     "name": "stdout",
     "output_type": "stream",
     "text": [
      "0.6619659662246704\n",
      "1/1 [==============================] - 0s 2ms/step - loss: 0.6651\n",
      "0.6650686264038086\n",
      "1/1 [==============================] - 0s 2ms/step - loss: 0.6167\n",
      "0.6166732311248779\n",
      "1/1 [==============================] - 0s 1ms/step - loss: 0.6722\n"
     ]
    },
    {
     "name": "stderr",
     "output_type": "stream",
     "text": [
      "  2%|▎         | 5/200 [00:16<05:56,  1.83s/it]"
     ]
    },
    {
     "name": "stdout",
     "output_type": "stream",
     "text": [
      "0.6721770763397217\n",
      "1/1 [==============================] - 0s 1ms/step - loss: 0.6226\n",
      "0.6226065158843994\n",
      "1/1 [==============================] - 0s 2ms/step - loss: 0.6781\n",
      "0.6780992746353149\n",
      "1/1 [==============================] - 0s 1ms/step - loss: 0.6306\n"
     ]
    },
    {
     "name": "stderr",
     "output_type": "stream",
     "text": [
      "  3%|▎         | 6/200 [00:17<04:39,  1.44s/it]"
     ]
    },
    {
     "name": "stdout",
     "output_type": "stream",
     "text": [
      "0.6305992603302002\n",
      "1/1 [==============================] - 0s 2ms/step - loss: 0.6729\n",
      "0.6728758215904236\n",
      "1/1 [==============================] - 0s 1ms/step - loss: 0.6766\n",
      "0.6766404509544373\n",
      "1/1 [==============================] - 0s 2ms/step - loss: 0.5519\n"
     ]
    },
    {
     "name": "stderr",
     "output_type": "stream",
     "text": [
      "  4%|▎         | 7/200 [00:18<03:48,  1.19s/it]"
     ]
    },
    {
     "name": "stdout",
     "output_type": "stream",
     "text": [
      "0.5518989562988281\n",
      "1/1 [==============================] - 0s 2ms/step - loss: 0.5933\n",
      "0.5933077335357666\n",
      "1/1 [==============================] - 0s 1ms/step - loss: 0.5895\n",
      "0.5894583463668823\n",
      "1/1 [==============================] - 0s 2ms/step - loss: 0.6754\n"
     ]
    },
    {
     "name": "stderr",
     "output_type": "stream",
     "text": [
      "  4%|▍         | 8/200 [00:18<03:14,  1.01s/it]"
     ]
    },
    {
     "name": "stdout",
     "output_type": "stream",
     "text": [
      "0.6754017472267151\n",
      "1/1 [==============================] - 0s 1ms/step - loss: 0.5466\n",
      "0.5465521812438965\n",
      "1/1 [==============================] - 0s 2ms/step - loss: 0.5985\n",
      "0.5985053777694702\n",
      "1/1 [==============================] - 0s 1000us/step - loss: 0.6794\n"
     ]
    },
    {
     "name": "stderr",
     "output_type": "stream",
     "text": [
      "  4%|▍         | 9/200 [00:19<02:58,  1.07it/s]"
     ]
    },
    {
     "name": "stdout",
     "output_type": "stream",
     "text": [
      "0.6794342994689941\n",
      "1/1 [==============================] - 0s 1ms/step - loss: 0.6097\n",
      "0.6096858978271484\n",
      "1/1 [==============================] - 0s 2ms/step - loss: 0.5989\n",
      "0.5988907814025879\n",
      "1/1 [==============================] - 0s 2ms/step - loss: 0.5721\n"
     ]
    },
    {
     "name": "stderr",
     "output_type": "stream",
     "text": [
      "  5%|▌         | 10/200 [00:20<02:42,  1.17it/s]"
     ]
    },
    {
     "name": "stdout",
     "output_type": "stream",
     "text": [
      "0.5720744132995605\n",
      "1/1 [==============================] - 0s 2ms/step - loss: 0.6191\n",
      "0.6191030740737915\n",
      "1/1 [==============================] - 0s 1ms/step - loss: 0.6201\n",
      "0.6201307773590088\n",
      "1/1 [==============================] - 0s 1ms/step - loss: 0.4841\n"
     ]
    },
    {
     "name": "stderr",
     "output_type": "stream",
     "text": [
      "  6%|▌         | 11/200 [00:20<02:33,  1.23it/s]"
     ]
    },
    {
     "name": "stdout",
     "output_type": "stream",
     "text": [
      "0.48413169384002686\n",
      "1/1 [==============================] - 0s 1ms/step - loss: 0.5812\n",
      "0.5811753273010254\n",
      "1/1 [==============================] - 0s 2ms/step - loss: 0.5474\n",
      "0.5474472045898438\n",
      "1/1 [==============================] - 0s 2ms/step - loss: 0.5431\n"
     ]
    },
    {
     "name": "stderr",
     "output_type": "stream",
     "text": [
      "  6%|▌         | 12/200 [00:21<02:26,  1.28it/s]"
     ]
    },
    {
     "name": "stdout",
     "output_type": "stream",
     "text": [
      "0.5431106686592102\n",
      "1/1 [==============================] - 0s 1ms/step - loss: 0.5438\n",
      "0.5437633991241455\n",
      "1/1 [==============================] - 0s 2ms/step - loss: 0.4602\n",
      "0.46020790934562683\n",
      "1/1 [==============================] - 0s 2ms/step - loss: 0.6042\n"
     ]
    },
    {
     "name": "stderr",
     "output_type": "stream",
     "text": [
      "  6%|▋         | 13/200 [00:22<02:19,  1.34it/s]"
     ]
    },
    {
     "name": "stdout",
     "output_type": "stream",
     "text": [
      "0.6042077541351318\n",
      "1/1 [==============================] - 0s 2ms/step - loss: 0.5269\n",
      "0.5269393920898438\n",
      "1/1 [==============================] - 0s 2ms/step - loss: 0.4997\n",
      "0.49972620606422424\n",
      "1/1 [==============================] - 0s 2ms/step - loss: 0.5153\n"
     ]
    },
    {
     "name": "stderr",
     "output_type": "stream",
     "text": [
      "  7%|▋         | 14/200 [00:22<02:16,  1.37it/s]"
     ]
    },
    {
     "name": "stdout",
     "output_type": "stream",
     "text": [
      "0.5152981877326965\n",
      "1/1 [==============================] - 0s 1ms/step - loss: 0.4980\n",
      "0.497958242893219\n",
      "1/1 [==============================] - 0s 1ms/step - loss: 0.5225\n",
      "0.5225467085838318\n",
      "1/1 [==============================] - 0s 2ms/step - loss: 0.4578\n"
     ]
    },
    {
     "name": "stderr",
     "output_type": "stream",
     "text": [
      "  8%|▊         | 15/200 [00:23<02:13,  1.39it/s]"
     ]
    },
    {
     "name": "stdout",
     "output_type": "stream",
     "text": [
      "0.45780888199806213\n",
      "1/1 [==============================] - 0s 2ms/step - loss: 0.5166\n",
      "0.5166483521461487\n",
      "1/1 [==============================] - 0s 2ms/step - loss: 0.4160\n",
      "0.41598808765411377\n",
      "1/1 [==============================] - 0s 1ms/step - loss: 0.4897\n"
     ]
    },
    {
     "name": "stderr",
     "output_type": "stream",
     "text": [
      "  8%|▊         | 16/200 [00:24<02:10,  1.41it/s]"
     ]
    },
    {
     "name": "stdout",
     "output_type": "stream",
     "text": [
      "0.4896541237831116\n",
      "1/1 [==============================] - 0s 2ms/step - loss: 0.4874\n",
      "0.4874146282672882\n",
      "1/1 [==============================] - 0s 2ms/step - loss: 0.4037\n",
      "0.4037320613861084\n",
      "1/1 [==============================] - 0s 2ms/step - loss: 0.4562\n"
     ]
    },
    {
     "name": "stderr",
     "output_type": "stream",
     "text": [
      "  8%|▊         | 17/200 [00:25<02:10,  1.40it/s]"
     ]
    },
    {
     "name": "stdout",
     "output_type": "stream",
     "text": [
      "0.45615214109420776\n",
      "1/1 [==============================] - 0s 2ms/step - loss: 0.3863\n",
      "0.38631391525268555\n",
      "1/1 [==============================] - 0s 1ms/step - loss: 0.4733\n",
      "0.4733480215072632\n",
      "1/1 [==============================] - 0s 2ms/step - loss: 0.4142\n"
     ]
    },
    {
     "name": "stderr",
     "output_type": "stream",
     "text": [
      "  9%|▉         | 18/200 [00:25<02:09,  1.41it/s]"
     ]
    },
    {
     "name": "stdout",
     "output_type": "stream",
     "text": [
      "0.4142325520515442\n",
      "1/1 [==============================] - 0s 2ms/step - loss: 0.3858\n",
      "0.38580524921417236\n",
      "1/1 [==============================] - 0s 1ms/step - loss: 0.4003\n",
      "0.40032678842544556\n",
      "1/1 [==============================] - 0s 2ms/step - loss: 0.4099\n"
     ]
    },
    {
     "name": "stderr",
     "output_type": "stream",
     "text": [
      " 10%|▉         | 19/200 [00:26<02:10,  1.39it/s]"
     ]
    },
    {
     "name": "stdout",
     "output_type": "stream",
     "text": [
      "0.4099375903606415\n",
      "1/1 [==============================] - 0s 2ms/step - loss: 0.3742\n",
      "0.374240517616272\n",
      "1/1 [==============================] - 0s 2ms/step - loss: 0.3865\n",
      "0.38653504848480225\n",
      "1/1 [==============================] - 0s 2ms/step - loss: 0.3559\n"
     ]
    },
    {
     "name": "stderr",
     "output_type": "stream",
     "text": [
      " 10%|█         | 20/200 [00:27<02:08,  1.40it/s]"
     ]
    },
    {
     "name": "stdout",
     "output_type": "stream",
     "text": [
      "0.3558897376060486\n",
      "1/1 [==============================] - 0s 1ms/step - loss: 0.3907\n",
      "0.3907209634780884\n",
      "1/1 [==============================] - 0s 2ms/step - loss: 0.3498\n",
      "0.3497852683067322\n",
      "1/1 [==============================] - 0s 2ms/step - loss: 0.2938\n"
     ]
    },
    {
     "name": "stderr",
     "output_type": "stream",
     "text": [
      " 10%|█         | 21/200 [00:27<02:07,  1.40it/s]"
     ]
    },
    {
     "name": "stdout",
     "output_type": "stream",
     "text": [
      "0.293794184923172\n",
      "1/1 [==============================] - 0s 2ms/step - loss: 0.2562\n",
      "0.25623831152915955\n",
      "1/1 [==============================] - 0s 2ms/step - loss: 0.2988\n",
      "0.29879218339920044\n",
      "1/1 [==============================] - 0s 2ms/step - loss: 0.3859\n"
     ]
    },
    {
     "name": "stderr",
     "output_type": "stream",
     "text": [
      " 11%|█         | 22/200 [00:28<02:05,  1.41it/s]"
     ]
    },
    {
     "name": "stdout",
     "output_type": "stream",
     "text": [
      "0.38586917519569397\n",
      "1/1 [==============================] - 0s 1000us/step - loss: 0.2656\n",
      "0.2655690312385559\n",
      "1/1 [==============================] - 0s 1ms/step - loss: 0.3257\n",
      "0.3256775140762329\n",
      "1/1 [==============================] - 0s 2ms/step - loss: 0.2672\n"
     ]
    },
    {
     "name": "stderr",
     "output_type": "stream",
     "text": [
      " 12%|█▏        | 23/200 [00:29<02:04,  1.42it/s]"
     ]
    },
    {
     "name": "stdout",
     "output_type": "stream",
     "text": [
      "0.26721248030662537\n",
      "1/1 [==============================] - 0s 2ms/step - loss: 0.3175\n",
      "0.31750723719596863\n",
      "1/1 [==============================] - 0s 2ms/step - loss: 0.2178\n",
      "0.21777081489562988\n",
      "1/1 [==============================] - 0s 2ms/step - loss: 0.2556\n"
     ]
    },
    {
     "name": "stderr",
     "output_type": "stream",
     "text": [
      " 12%|█▏        | 24/200 [00:29<02:01,  1.45it/s]"
     ]
    },
    {
     "name": "stdout",
     "output_type": "stream",
     "text": [
      "0.2555638551712036\n",
      "1/1 [==============================] - 0s 1ms/step - loss: 0.2366\n",
      "0.23656383156776428\n",
      "1/1 [==============================] - 0s 998us/step - loss: 0.2596\n",
      "0.25960609316825867\n",
      "1/1 [==============================] - 0s 2ms/step - loss: 0.2206\n"
     ]
    },
    {
     "name": "stderr",
     "output_type": "stream",
     "text": [
      " 12%|█▎        | 25/200 [00:30<01:58,  1.47it/s]"
     ]
    },
    {
     "name": "stdout",
     "output_type": "stream",
     "text": [
      "0.22061219811439514\n",
      "1/1 [==============================] - 0s 2ms/step - loss: 0.2588\n",
      "0.25879552960395813\n",
      "1/1 [==============================] - 0s 998us/step - loss: 0.1964\n",
      "0.19642144441604614\n",
      "1/1 [==============================] - 0s 2ms/step - loss: 0.2087\n"
     ]
    },
    {
     "name": "stderr",
     "output_type": "stream",
     "text": [
      " 13%|█▎        | 26/200 [00:31<01:58,  1.47it/s]"
     ]
    },
    {
     "name": "stdout",
     "output_type": "stream",
     "text": [
      "0.2087419629096985\n",
      "1/1 [==============================] - 0s 1ms/step - loss: 0.1909\n",
      "0.19092020392417908\n",
      "1/1 [==============================] - 0s 1ms/step - loss: 0.4178\n",
      "0.4177558720111847\n",
      "1/1 [==============================] - 0s 1ms/step - loss: 0.6078\n"
     ]
    },
    {
     "name": "stderr",
     "output_type": "stream",
     "text": [
      " 14%|█▎        | 27/200 [00:32<01:59,  1.45it/s]"
     ]
    },
    {
     "name": "stdout",
     "output_type": "stream",
     "text": [
      "0.6078229546546936\n",
      "1/1 [==============================] - 0s 1ms/step - loss: 0.8690\n",
      "0.8689939379692078\n",
      "1/1 [==============================] - 0s 2ms/step - loss: 0.8945\n",
      "0.8944674134254456\n",
      "1/1 [==============================] - 0s 1ms/step - loss: 0.8648\n"
     ]
    },
    {
     "name": "stderr",
     "output_type": "stream",
     "text": [
      " 14%|█▍        | 28/200 [00:32<02:00,  1.42it/s]"
     ]
    },
    {
     "name": "stdout",
     "output_type": "stream",
     "text": [
      "0.8647915124893188\n",
      "1/1 [==============================] - 0s 2ms/step - loss: 1.0161\n",
      "1.0161042213439941\n",
      "1/1 [==============================] - 0s 2ms/step - loss: 0.8324\n",
      "0.8324074745178223\n",
      "1/1 [==============================] - 0s 2ms/step - loss: 0.7683\n"
     ]
    },
    {
     "name": "stderr",
     "output_type": "stream",
     "text": [
      " 14%|█▍        | 29/200 [00:33<02:02,  1.40it/s]"
     ]
    },
    {
     "name": "stdout",
     "output_type": "stream",
     "text": [
      "0.7682574987411499\n",
      "1/1 [==============================] - 0s 2ms/step - loss: 0.7182\n",
      "0.7181910276412964\n",
      "1/1 [==============================] - 0s 1ms/step - loss: 0.6656\n",
      "0.6656101942062378\n",
      "1/1 [==============================] - 0s 2ms/step - loss: 0.6246\n"
     ]
    },
    {
     "name": "stderr",
     "output_type": "stream",
     "text": [
      " 15%|█▌        | 30/200 [00:34<01:59,  1.42it/s]"
     ]
    },
    {
     "name": "stdout",
     "output_type": "stream",
     "text": [
      "0.6246402263641357\n",
      "1/1 [==============================] - 0s 1ms/step - loss: 0.5620\n",
      "0.5620037317276001\n",
      "1/1 [==============================] - 0s 2ms/step - loss: 0.5083\n",
      "0.5083399415016174\n",
      "1/1 [==============================] - 0s 2ms/step - loss: 0.5643\n"
     ]
    },
    {
     "name": "stderr",
     "output_type": "stream",
     "text": [
      " 16%|█▌        | 31/200 [00:34<01:58,  1.42it/s]"
     ]
    },
    {
     "name": "stdout",
     "output_type": "stream",
     "text": [
      "0.5642542839050293\n",
      "1/1 [==============================] - 0s 2ms/step - loss: 0.4956\n",
      "0.4956241250038147\n",
      "1/1 [==============================] - 0s 2ms/step - loss: 0.4380\n",
      "0.43798860907554626\n",
      "1/1 [==============================] - 0s 2ms/step - loss: 0.4525\n"
     ]
    },
    {
     "name": "stderr",
     "output_type": "stream",
     "text": [
      " 16%|█▌        | 32/200 [00:35<01:57,  1.44it/s]"
     ]
    },
    {
     "name": "stdout",
     "output_type": "stream",
     "text": [
      "0.45250290632247925\n",
      "1/1 [==============================] - 0s 1ms/step - loss: 0.4060\n",
      "0.40603333711624146\n",
      "1/1 [==============================] - 0s 2ms/step - loss: 0.3540\n",
      "0.35401660203933716\n",
      "1/1 [==============================] - 0s 1ms/step - loss: 0.4449\n"
     ]
    },
    {
     "name": "stderr",
     "output_type": "stream",
     "text": [
      " 16%|█▋        | 33/200 [00:36<01:55,  1.45it/s]"
     ]
    },
    {
     "name": "stdout",
     "output_type": "stream",
     "text": [
      "0.4448769688606262\n",
      "1/1 [==============================] - 0s 1ms/step - loss: 0.3219\n",
      "0.32194674015045166\n",
      "1/1 [==============================] - 0s 2ms/step - loss: 0.3202\n",
      "0.32020699977874756\n",
      "1/1 [==============================] - 0s 2ms/step - loss: 0.4756\n"
     ]
    },
    {
     "name": "stderr",
     "output_type": "stream",
     "text": [
      " 17%|█▋        | 34/200 [00:36<01:54,  1.45it/s]"
     ]
    },
    {
     "name": "stdout",
     "output_type": "stream",
     "text": [
      "0.47564929723739624\n",
      "1/1 [==============================] - 0s 2ms/step - loss: 0.4029\n",
      "0.4028574824333191\n",
      "1/1 [==============================] - 0s 1ms/step - loss: 0.3834\n",
      "0.38341933488845825\n",
      "1/1 [==============================] - 0s 2ms/step - loss: 0.2834\n"
     ]
    },
    {
     "name": "stderr",
     "output_type": "stream",
     "text": [
      " 18%|█▊        | 35/200 [00:37<01:57,  1.41it/s]"
     ]
    },
    {
     "name": "stdout",
     "output_type": "stream",
     "text": [
      "0.2834205627441406\n",
      "1/1 [==============================] - 0s 2ms/step - loss: 0.4341\n",
      "0.4341180920600891\n",
      "1/1 [==============================] - 0s 2ms/step - loss: 0.2665\n",
      "0.2664704918861389\n",
      "1/1 [==============================] - 0s 2ms/step - loss: 0.3200\n"
     ]
    },
    {
     "name": "stderr",
     "output_type": "stream",
     "text": [
      " 18%|█▊        | 36/200 [00:38<01:56,  1.41it/s]"
     ]
    },
    {
     "name": "stdout",
     "output_type": "stream",
     "text": [
      "0.3200172185897827\n",
      "1/1 [==============================] - 0s 2ms/step - loss: 0.2904\n",
      "0.2904239892959595\n",
      "1/1 [==============================] - 0s 2ms/step - loss: 0.2564\n",
      "0.256435364484787\n",
      "1/1 [==============================] - 0s 991us/step - loss: 0.4338\n"
     ]
    },
    {
     "name": "stderr",
     "output_type": "stream",
     "text": [
      " 18%|█▊        | 37/200 [00:39<01:55,  1.41it/s]"
     ]
    },
    {
     "name": "stdout",
     "output_type": "stream",
     "text": [
      "0.4338361322879791\n",
      "1/1 [==============================] - 0s 2ms/step - loss: 0.3790\n",
      "0.37896305322647095\n",
      "1/1 [==============================] - 0s 1ms/step - loss: 0.3380\n",
      "0.3380478620529175\n",
      "1/1 [==============================] - 0s 2ms/step - loss: 0.2212\n"
     ]
    },
    {
     "name": "stderr",
     "output_type": "stream",
     "text": [
      " 19%|█▉        | 38/200 [00:39<01:53,  1.43it/s]"
     ]
    },
    {
     "name": "stdout",
     "output_type": "stream",
     "text": [
      "0.22115054726600647\n",
      "1/1 [==============================] - 0s 2ms/step - loss: 0.3503\n",
      "0.3503493368625641\n",
      "1/1 [==============================] - 0s 2ms/step - loss: 0.3141\n",
      "0.3140530288219452\n",
      "1/1 [==============================] - 0s 2ms/step - loss: 0.2114\n"
     ]
    },
    {
     "name": "stderr",
     "output_type": "stream",
     "text": [
      " 20%|█▉        | 39/200 [00:40<01:55,  1.39it/s]"
     ]
    },
    {
     "name": "stdout",
     "output_type": "stream",
     "text": [
      "0.21138617396354675\n",
      "1/1 [==============================] - 0s 2ms/step - loss: 0.3536\n",
      "0.3535715639591217\n",
      "1/1 [==============================] - 0s 1ms/step - loss: 0.2700\n",
      "0.269967645406723\n",
      "1/1 [==============================] - 0s 2ms/step - loss: 0.2094\n"
     ]
    },
    {
     "name": "stderr",
     "output_type": "stream",
     "text": [
      " 20%|██        | 40/200 [00:41<01:54,  1.40it/s]"
     ]
    },
    {
     "name": "stdout",
     "output_type": "stream",
     "text": [
      "0.20943492650985718\n",
      "1/1 [==============================] - 0s 2ms/step - loss: 0.2661\n",
      "0.26609522104263306\n",
      "1/1 [==============================] - 0s 2ms/step - loss: 0.2007\n",
      "0.2006533443927765\n",
      "1/1 [==============================] - 0s 1ms/step - loss: 0.3218\n"
     ]
    },
    {
     "name": "stderr",
     "output_type": "stream",
     "text": [
      " 20%|██        | 41/200 [00:41<01:53,  1.40it/s]"
     ]
    },
    {
     "name": "stdout",
     "output_type": "stream",
     "text": [
      "0.32180070877075195\n",
      "1/1 [==============================] - 0s 2ms/step - loss: 0.1978\n",
      "0.1978135108947754\n",
      "1/1 [==============================] - 0s 1ms/step - loss: 0.2665\n",
      "0.26645714044570923\n",
      "1/1 [==============================] - 0s 993us/step - loss: 0.3085\n"
     ]
    },
    {
     "name": "stderr",
     "output_type": "stream",
     "text": [
      " 21%|██        | 42/200 [00:42<01:50,  1.43it/s]"
     ]
    },
    {
     "name": "stdout",
     "output_type": "stream",
     "text": [
      "0.30854859948158264\n",
      "1/1 [==============================] - 0s 2ms/step - loss: 0.1808\n",
      "0.18076027929782867\n",
      "1/1 [==============================] - 0s 2ms/step - loss: 0.2680\n",
      "0.26797839999198914\n",
      "1/1 [==============================] - 0s 2ms/step - loss: 0.3061\n"
     ]
    },
    {
     "name": "stderr",
     "output_type": "stream",
     "text": [
      " 22%|██▏       | 43/200 [00:43<01:49,  1.43it/s]"
     ]
    },
    {
     "name": "stdout",
     "output_type": "stream",
     "text": [
      "0.30605506896972656\n",
      "1/1 [==============================] - 0s 2ms/step - loss: 0.3578\n",
      "0.35781073570251465\n",
      "1/1 [==============================] - 0s 1ms/step - loss: 0.2148\n",
      "0.21482539176940918\n",
      "1/1 [==============================] - 0s 2ms/step - loss: 0.1842\n"
     ]
    },
    {
     "name": "stderr",
     "output_type": "stream",
     "text": [
      " 22%|██▏       | 44/200 [00:44<01:50,  1.41it/s]"
     ]
    },
    {
     "name": "stdout",
     "output_type": "stream",
     "text": [
      "0.18415915966033936\n",
      "1/1 [==============================] - 0s 2ms/step - loss: 0.3036\n",
      "0.30360257625579834\n",
      "1/1 [==============================] - 0s 2ms/step - loss: 0.2810\n",
      "0.2810368239879608\n",
      "1/1 [==============================] - 0s 2ms/step - loss: 0.1648\n"
     ]
    },
    {
     "name": "stderr",
     "output_type": "stream",
     "text": [
      " 22%|██▎       | 45/200 [00:44<01:50,  1.41it/s]"
     ]
    },
    {
     "name": "stdout",
     "output_type": "stream",
     "text": [
      "0.16484561562538147\n",
      "1/1 [==============================] - 0s 1ms/step - loss: 0.4285\n",
      "0.4284678101539612\n",
      "1/1 [==============================] - 0s 2ms/step - loss: 0.1603\n",
      "0.16026625037193298\n",
      "1/1 [==============================] - 0s 1ms/step - loss: 0.1837\n"
     ]
    },
    {
     "name": "stderr",
     "output_type": "stream",
     "text": [
      " 23%|██▎       | 46/200 [00:45<01:47,  1.43it/s]"
     ]
    },
    {
     "name": "stdout",
     "output_type": "stream",
     "text": [
      "0.183671236038208\n",
      "1/1 [==============================] - 0s 999us/step - loss: 0.3896\n",
      "0.389639675617218\n",
      "1/1 [==============================] - 0s 998us/step - loss: 0.2213\n",
      "0.22130519151687622\n",
      "1/1 [==============================] - 0s 2ms/step - loss: 0.1732\n"
     ]
    },
    {
     "name": "stderr",
     "output_type": "stream",
     "text": [
      " 24%|██▎       | 47/200 [00:46<01:47,  1.42it/s]"
     ]
    },
    {
     "name": "stdout",
     "output_type": "stream",
     "text": [
      "0.17324620485305786\n",
      "1/1 [==============================] - 0s 2ms/step - loss: 0.1836\n",
      "0.18363149464130402\n",
      "1/1 [==============================] - 0s 2ms/step - loss: 0.1462\n",
      "0.1461542546749115\n",
      "1/1 [==============================] - 0s 2ms/step - loss: 0.4676\n"
     ]
    },
    {
     "name": "stderr",
     "output_type": "stream",
     "text": [
      " 24%|██▍       | 48/200 [00:46<01:48,  1.40it/s]"
     ]
    },
    {
     "name": "stdout",
     "output_type": "stream",
     "text": [
      "0.4676073491573334\n",
      "1/1 [==============================] - 0s 2ms/step - loss: 0.4068\n",
      "0.4068387746810913\n",
      "1/1 [==============================] - 0s 2ms/step - loss: 0.1767\n",
      "0.1767205446958542\n",
      "1/1 [==============================] - 0s 2ms/step - loss: 0.4154\n"
     ]
    },
    {
     "name": "stderr",
     "output_type": "stream",
     "text": [
      " 24%|██▍       | 49/200 [00:47<01:47,  1.41it/s]"
     ]
    },
    {
     "name": "stdout",
     "output_type": "stream",
     "text": [
      "0.4154316782951355\n",
      "1/1 [==============================] - 0s 2ms/step - loss: 0.4207\n",
      "0.42069247364997864\n",
      "1/1 [==============================] - 0s 1ms/step - loss: 0.1384\n",
      "0.1383652687072754\n",
      "1/1 [==============================] - 0s 1ms/step - loss: 0.4406\n"
     ]
    },
    {
     "name": "stderr",
     "output_type": "stream",
     "text": [
      " 25%|██▌       | 50/200 [00:48<01:47,  1.40it/s]"
     ]
    },
    {
     "name": "stdout",
     "output_type": "stream",
     "text": [
      "0.44057539105415344\n",
      "1/1 [==============================] - 0s 1ms/step - loss: 0.1938\n",
      "0.1937505006790161\n",
      "1/1 [==============================] - 0s 1ms/step - loss: 0.1611\n",
      "0.16105782985687256\n",
      "1/1 [==============================] - 0s 998us/step - loss: 0.7021\n"
     ]
    },
    {
     "name": "stderr",
     "output_type": "stream",
     "text": [
      " 26%|██▌       | 51/200 [00:48<01:45,  1.41it/s]"
     ]
    },
    {
     "name": "stdout",
     "output_type": "stream",
     "text": [
      "0.7020707130432129\n",
      "1/1 [==============================] - 0s 2ms/step - loss: 0.6182\n",
      "0.6182291507720947\n",
      "1/1 [==============================] - 0s 1ms/step - loss: 0.4657\n",
      "0.4657360017299652\n",
      "1/1 [==============================] - 0s 2ms/step - loss: 0.4183\n"
     ]
    },
    {
     "name": "stderr",
     "output_type": "stream",
     "text": [
      " 26%|██▌       | 52/200 [00:49<01:43,  1.43it/s]"
     ]
    },
    {
     "name": "stdout",
     "output_type": "stream",
     "text": [
      "0.41833704710006714\n",
      "1/1 [==============================] - 0s 1ms/step - loss: 0.6618\n",
      "0.6617826223373413\n",
      "1/1 [==============================] - 0s 1ms/step - loss: 0.4693\n",
      "0.46933820843696594\n",
      "1/1 [==============================] - 0s 1ms/step - loss: 0.5765\n"
     ]
    },
    {
     "name": "stderr",
     "output_type": "stream",
     "text": [
      " 26%|██▋       | 53/200 [00:50<01:44,  1.41it/s]"
     ]
    },
    {
     "name": "stdout",
     "output_type": "stream",
     "text": [
      "0.5764511227607727\n",
      "1/1 [==============================] - 0s 2ms/step - loss: 0.3544\n",
      "0.3544084429740906\n",
      "1/1 [==============================] - 0s 2ms/step - loss: 0.8895\n",
      "0.889494776725769\n",
      "1/1 [==============================] - 0s 2ms/step - loss: 0.8366\n"
     ]
    },
    {
     "name": "stderr",
     "output_type": "stream",
     "text": [
      " 27%|██▋       | 54/200 [00:51<01:44,  1.40it/s]"
     ]
    },
    {
     "name": "stdout",
     "output_type": "stream",
     "text": [
      "0.8365743160247803\n",
      "1/1 [==============================] - 0s 2ms/step - loss: 0.4158\n",
      "0.4158114194869995\n",
      "1/1 [==============================] - 0s 1ms/step - loss: 0.6395\n",
      "0.6394709348678589\n",
      "1/1 [==============================] - 0s 1ms/step - loss: 0.1782\n"
     ]
    },
    {
     "name": "stderr",
     "output_type": "stream",
     "text": [
      " 28%|██▊       | 55/200 [00:51<01:41,  1.43it/s]"
     ]
    },
    {
     "name": "stdout",
     "output_type": "stream",
     "text": [
      "0.17817381024360657\n",
      "1/1 [==============================] - 0s 2ms/step - loss: 0.1334\n",
      "0.13344836235046387\n",
      "1/1 [==============================] - 0s 1ms/step - loss: 0.4626\n",
      "0.4625506103038788\n",
      "1/1 [==============================] - 0s 1ms/step - loss: 0.4481\n"
     ]
    },
    {
     "name": "stderr",
     "output_type": "stream",
     "text": [
      " 28%|██▊       | 56/200 [00:52<01:42,  1.41it/s]"
     ]
    },
    {
     "name": "stdout",
     "output_type": "stream",
     "text": [
      "0.44810783863067627\n",
      "1/1 [==============================] - 0s 2ms/step - loss: 0.4437\n",
      "0.4436691701412201\n",
      "1/1 [==============================] - 0s 1ms/step - loss: 0.1491\n",
      "0.1491260677576065\n",
      "1/1 [==============================] - 0s 2ms/step - loss: 0.7799\n"
     ]
    },
    {
     "name": "stderr",
     "output_type": "stream",
     "text": [
      " 28%|██▊       | 57/200 [00:53<01:39,  1.43it/s]"
     ]
    },
    {
     "name": "stdout",
     "output_type": "stream",
     "text": [
      "0.7799395322799683\n",
      "1/1 [==============================] - 0s 2ms/step - loss: 0.4481\n",
      "0.44805365800857544\n",
      "1/1 [==============================] - 0s 2ms/step - loss: 0.1728\n",
      "0.172787606716156\n",
      "1/1 [==============================] - 0s 1ms/step - loss: 0.5697\n"
     ]
    },
    {
     "name": "stderr",
     "output_type": "stream",
     "text": [
      " 29%|██▉       | 58/200 [00:53<01:37,  1.45it/s]"
     ]
    },
    {
     "name": "stdout",
     "output_type": "stream",
     "text": [
      "0.5696960091590881\n",
      "1/1 [==============================] - 0s 998us/step - loss: 0.3215\n",
      "0.3214561343193054\n",
      "1/1 [==============================] - 0s 2ms/step - loss: 0.6120\n",
      "0.6120196580886841\n",
      "1/1 [==============================] - 0s 2ms/step - loss: 0.4004\n"
     ]
    },
    {
     "name": "stderr",
     "output_type": "stream",
     "text": [
      " 30%|██▉       | 59/200 [00:54<01:38,  1.43it/s]"
     ]
    },
    {
     "name": "stdout",
     "output_type": "stream",
     "text": [
      "0.4003779888153076\n",
      "1/1 [==============================] - 0s 1ms/step - loss: 0.3972\n",
      "0.39724966883659363\n",
      "1/1 [==============================] - 0s 2ms/step - loss: 0.2011\n",
      "0.2011173814535141\n",
      "1/1 [==============================] - 0s 1ms/step - loss: 0.5586\n"
     ]
    },
    {
     "name": "stderr",
     "output_type": "stream",
     "text": [
      " 30%|███       | 60/200 [00:55<01:37,  1.44it/s]"
     ]
    },
    {
     "name": "stdout",
     "output_type": "stream",
     "text": [
      "0.5586453676223755\n",
      "1/1 [==============================] - 0s 2ms/step - loss: 0.6785\n",
      "0.6785112023353577\n",
      "1/1 [==============================] - 0s 1ms/step - loss: 0.1962\n",
      "0.19624300301074982\n",
      "1/1 [==============================] - 0s 2ms/step - loss: 0.1367\n"
     ]
    },
    {
     "name": "stderr",
     "output_type": "stream",
     "text": [
      " 30%|███       | 61/200 [00:55<01:36,  1.44it/s]"
     ]
    },
    {
     "name": "stdout",
     "output_type": "stream",
     "text": [
      "0.13673025369644165\n",
      "1/1 [==============================] - 0s 1ms/step - loss: 0.1541\n",
      "0.15405622124671936\n",
      "1/1 [==============================] - 0s 2ms/step - loss: 0.4507\n",
      "0.4506525993347168\n",
      "1/1 [==============================] - 0s 1ms/step - loss: 0.3966\n"
     ]
    },
    {
     "name": "stderr",
     "output_type": "stream",
     "text": [
      " 31%|███       | 62/200 [00:56<01:35,  1.45it/s]"
     ]
    },
    {
     "name": "stdout",
     "output_type": "stream",
     "text": [
      "0.3965768814086914\n",
      "1/1 [==============================] - 0s 2ms/step - loss: 0.1263\n",
      "0.12630052864551544\n",
      "1/1 [==============================] - 0s 2ms/step - loss: 0.6737\n",
      "0.6736987829208374\n",
      "1/1 [==============================] - 0s 2ms/step - loss: 0.1911\n"
     ]
    },
    {
     "name": "stderr",
     "output_type": "stream",
     "text": [
      " 32%|███▏      | 63/200 [00:57<01:33,  1.47it/s]"
     ]
    },
    {
     "name": "stdout",
     "output_type": "stream",
     "text": [
      "0.1910853087902069\n",
      "1/1 [==============================] - 0s 2ms/step - loss: 0.4217\n",
      "0.42174845933914185\n",
      "1/1 [==============================] - 0s 1ms/step - loss: 0.4322\n",
      "0.4321996569633484\n",
      "1/1 [==============================] - 0s 2ms/step - loss: 0.1300\n"
     ]
    },
    {
     "name": "stderr",
     "output_type": "stream",
     "text": [
      " 32%|███▏      | 64/200 [00:57<01:32,  1.48it/s]"
     ]
    },
    {
     "name": "stdout",
     "output_type": "stream",
     "text": [
      "0.12999674677848816\n",
      "1/1 [==============================] - 0s 1ms/step - loss: 0.7930\n",
      "0.7930312156677246\n",
      "1/1 [==============================] - 0s 2ms/step - loss: 0.1638\n",
      "0.1637992560863495\n",
      "1/1 [==============================] - 0s 1ms/step - loss: 0.2760\n"
     ]
    },
    {
     "name": "stderr",
     "output_type": "stream",
     "text": [
      " 32%|███▎      | 65/200 [00:59<01:52,  1.20it/s]"
     ]
    },
    {
     "name": "stdout",
     "output_type": "stream",
     "text": [
      "0.276008665561676\n",
      "1/1 [==============================] - 0s 1ms/step - loss: 0.1645\n",
      "0.1645374447107315\n",
      "1/1 [==============================] - 0s 1ms/step - loss: 0.3977\n",
      "0.3976999521255493\n",
      "1/1 [==============================] - 0s 1ms/step - loss: 0.4031\n"
     ]
    },
    {
     "name": "stderr",
     "output_type": "stream",
     "text": [
      " 33%|███▎      | 66/200 [00:59<01:45,  1.28it/s]"
     ]
    },
    {
     "name": "stdout",
     "output_type": "stream",
     "text": [
      "0.40305662155151367\n",
      "1/1 [==============================] - 0s 2ms/step - loss: 0.4250\n",
      "0.4250358045101166\n",
      "1/1 [==============================] - 0s 2ms/step - loss: 0.1406\n",
      "0.1406073272228241\n",
      "1/1 [==============================] - 0s 1ms/step - loss: 0.3919\n"
     ]
    },
    {
     "name": "stderr",
     "output_type": "stream",
     "text": [
      " 34%|███▎      | 67/200 [01:00<01:40,  1.32it/s]"
     ]
    },
    {
     "name": "stdout",
     "output_type": "stream",
     "text": [
      "0.39190924167633057\n",
      "1/1 [==============================] - 0s 2ms/step - loss: 0.2954\n",
      "0.2953616678714752\n",
      "1/1 [==============================] - 0s 2ms/step - loss: 0.3791\n",
      "0.3791266679763794\n",
      "1/1 [==============================] - 0s 999us/step - loss: 0.5219\n"
     ]
    },
    {
     "name": "stderr",
     "output_type": "stream",
     "text": [
      " 34%|███▍      | 68/200 [01:01<01:37,  1.35it/s]"
     ]
    },
    {
     "name": "stdout",
     "output_type": "stream",
     "text": [
      "0.5218609571456909\n",
      "1/1 [==============================] - 0s 998us/step - loss: 0.4188\n",
      "0.4187750816345215\n",
      "1/1 [==============================] - 0s 1ms/step - loss: 0.3765\n",
      "0.37654292583465576\n",
      "1/1 [==============================] - 0s 2ms/step - loss: 0.1478\n"
     ]
    },
    {
     "name": "stderr",
     "output_type": "stream",
     "text": [
      " 34%|███▍      | 69/200 [01:01<01:35,  1.37it/s]"
     ]
    },
    {
     "name": "stdout",
     "output_type": "stream",
     "text": [
      "0.1478484719991684\n",
      "1/1 [==============================] - 0s 1ms/step - loss: 0.6518\n",
      "0.6517820358276367\n",
      "1/1 [==============================] - 0s 2ms/step - loss: 0.1460\n",
      "0.14601491391658783\n",
      "1/1 [==============================] - 0s 2ms/step - loss: 0.1385\n"
     ]
    },
    {
     "name": "stderr",
     "output_type": "stream",
     "text": [
      " 35%|███▌      | 70/200 [01:02<01:33,  1.38it/s]"
     ]
    },
    {
     "name": "stdout",
     "output_type": "stream",
     "text": [
      "0.13846489787101746\n",
      "1/1 [==============================] - 0s 2ms/step - loss: 0.3958\n",
      "0.3958342969417572\n",
      "1/1 [==============================] - 0s 1ms/step - loss: 0.3955\n",
      "0.39547431468963623\n",
      "1/1 [==============================] - 0s 2ms/step - loss: 0.1370\n"
     ]
    },
    {
     "name": "stderr",
     "output_type": "stream",
     "text": [
      " 36%|███▌      | 71/200 [01:03<01:33,  1.38it/s]"
     ]
    },
    {
     "name": "stdout",
     "output_type": "stream",
     "text": [
      "0.13695673644542694\n",
      "1/1 [==============================] - 0s 1ms/step - loss: 0.4085\n",
      "0.40850216150283813\n",
      "1/1 [==============================] - 0s 2ms/step - loss: 0.1489\n",
      "0.14894619584083557\n",
      "1/1 [==============================] - 0s 2ms/step - loss: 0.3635\n"
     ]
    },
    {
     "name": "stderr",
     "output_type": "stream",
     "text": [
      " 36%|███▌      | 72/200 [01:04<01:32,  1.39it/s]"
     ]
    },
    {
     "name": "stdout",
     "output_type": "stream",
     "text": [
      "0.363482266664505\n",
      "1/1 [==============================] - 0s 1ms/step - loss: 0.1363\n",
      "0.13628524541854858\n",
      "1/1 [==============================] - 0s 1ms/step - loss: 0.3883\n",
      "0.3882525861263275\n",
      "1/1 [==============================] - 0s 2ms/step - loss: 0.3885\n"
     ]
    },
    {
     "name": "stderr",
     "output_type": "stream",
     "text": [
      " 36%|███▋      | 73/200 [01:04<01:29,  1.41it/s]"
     ]
    },
    {
     "name": "stdout",
     "output_type": "stream",
     "text": [
      "0.38845324516296387\n",
      "1/1 [==============================] - 0s 1ms/step - loss: 0.3858\n",
      "0.3858444392681122\n",
      "1/1 [==============================] - 0s 2ms/step - loss: 0.4009\n",
      "0.4009101092815399\n",
      "1/1 [==============================] - 0s 2ms/step - loss: 0.1200\n"
     ]
    },
    {
     "name": "stderr",
     "output_type": "stream",
     "text": [
      " 37%|███▋      | 74/200 [01:05<01:28,  1.42it/s]"
     ]
    },
    {
     "name": "stdout",
     "output_type": "stream",
     "text": [
      "0.12003066390752792\n",
      "1/1 [==============================] - 0s 1ms/step - loss: 0.1153\n",
      "0.11526168882846832\n",
      "1/1 [==============================] - 0s 1ms/step - loss: 0.4010\n",
      "0.40097492933273315\n",
      "1/1 [==============================] - 0s 2ms/step - loss: 0.3820\n"
     ]
    },
    {
     "name": "stderr",
     "output_type": "stream",
     "text": [
      " 38%|███▊      | 75/200 [01:06<01:29,  1.40it/s]"
     ]
    },
    {
     "name": "stdout",
     "output_type": "stream",
     "text": [
      "0.381951242685318\n",
      "1/1 [==============================] - 0s 2ms/step - loss: 0.3980\n",
      "0.3979780077934265\n",
      "1/1 [==============================] - 0s 1ms/step - loss: 0.1359\n",
      "0.13589051365852356\n",
      "1/1 [==============================] - 0s 1ms/step - loss: 0.3581\n"
     ]
    },
    {
     "name": "stderr",
     "output_type": "stream",
     "text": [
      " 38%|███▊      | 76/200 [01:06<01:28,  1.40it/s]"
     ]
    },
    {
     "name": "stdout",
     "output_type": "stream",
     "text": [
      "0.3581084609031677\n",
      "1/1 [==============================] - 0s 2ms/step - loss: 0.1295\n",
      "0.12950709462165833\n",
      "1/1 [==============================] - 0s 1ms/step - loss: 0.3984\n",
      "0.3984321355819702\n",
      "1/1 [==============================] - 0s 1ms/step - loss: 0.3569\n"
     ]
    },
    {
     "name": "stderr",
     "output_type": "stream",
     "text": [
      " 38%|███▊      | 77/200 [01:07<01:27,  1.40it/s]"
     ]
    },
    {
     "name": "stdout",
     "output_type": "stream",
     "text": [
      "0.35691124200820923\n",
      "1/1 [==============================] - 0s 2ms/step - loss: 0.3945\n",
      "0.3945454955101013\n",
      "1/1 [==============================] - 0s 1ms/step - loss: 0.1259\n",
      "0.12585102021694183\n",
      "1/1 [==============================] - 0s 1ms/step - loss: 0.3579\n"
     ]
    },
    {
     "name": "stderr",
     "output_type": "stream",
     "text": [
      " 39%|███▉      | 78/200 [01:08<01:27,  1.40it/s]"
     ]
    },
    {
     "name": "stdout",
     "output_type": "stream",
     "text": [
      "0.3579481840133667\n",
      "1/1 [==============================] - 0s 999us/step - loss: 0.1297\n",
      "0.1296510249376297\n",
      "1/1 [==============================] - 0s 2ms/step - loss: 0.6143\n",
      "0.6142612099647522\n",
      "1/1 [==============================] - 0s 2ms/step - loss: 0.1276\n"
     ]
    },
    {
     "name": "stderr",
     "output_type": "stream",
     "text": [
      " 40%|███▉      | 79/200 [01:09<01:27,  1.38it/s]"
     ]
    },
    {
     "name": "stdout",
     "output_type": "stream",
     "text": [
      "0.12762737274169922\n",
      "1/1 [==============================] - 0s 2ms/step - loss: 0.1247\n",
      "0.1247120350599289\n",
      "1/1 [==============================] - 0s 2ms/step - loss: 0.6239\n",
      "0.6239467263221741\n",
      "1/1 [==============================] - 0s 2ms/step - loss: 0.1167\n"
     ]
    },
    {
     "name": "stderr",
     "output_type": "stream",
     "text": [
      " 40%|████      | 80/200 [01:09<01:25,  1.41it/s]"
     ]
    },
    {
     "name": "stdout",
     "output_type": "stream",
     "text": [
      "0.11670492589473724\n",
      "1/1 [==============================] - 0s 1ms/step - loss: 0.3723\n",
      "0.372275173664093\n",
      "1/1 [==============================] - 0s 2ms/step - loss: 0.1216\n",
      "0.12164828181266785\n",
      "1/1 [==============================] - 0s 1ms/step - loss: 0.3646\n"
     ]
    },
    {
     "name": "stderr",
     "output_type": "stream",
     "text": [
      " 40%|████      | 81/200 [01:10<01:23,  1.43it/s]"
     ]
    },
    {
     "name": "stdout",
     "output_type": "stream",
     "text": [
      "0.36464303731918335\n",
      "1/1 [==============================] - 0s 997us/step - loss: 0.1094\n",
      "0.10935284197330475\n",
      "1/1 [==============================] - 0s 1ms/step - loss: 0.3570\n",
      "0.3570409119129181\n",
      "1/1 [==============================] - 0s 1ms/step - loss: 0.3863\n"
     ]
    },
    {
     "name": "stderr",
     "output_type": "stream",
     "text": [
      " 41%|████      | 82/200 [01:11<01:22,  1.43it/s]"
     ]
    },
    {
     "name": "stdout",
     "output_type": "stream",
     "text": [
      "0.38630664348602295\n",
      "1/1 [==============================] - 0s 2ms/step - loss: 0.3429\n",
      "0.34289100766181946\n",
      "1/1 [==============================] - 0s 1ms/step - loss: 0.1214\n",
      "0.12135560810565948\n",
      "1/1 [==============================] - 0s 1ms/step - loss: 0.3830\n"
     ]
    },
    {
     "name": "stderr",
     "output_type": "stream",
     "text": [
      " 42%|████▏     | 83/200 [01:11<01:22,  1.42it/s]"
     ]
    },
    {
     "name": "stdout",
     "output_type": "stream",
     "text": [
      "0.3829978108406067\n",
      "1/1 [==============================] - 0s 2ms/step - loss: 0.3437\n",
      "0.3436662554740906\n",
      "1/1 [==============================] - 0s 1ms/step - loss: 0.1251\n",
      "0.12511804699897766\n",
      "1/1 [==============================] - 0s 2ms/step - loss: 0.3731\n"
     ]
    },
    {
     "name": "stderr",
     "output_type": "stream",
     "text": [
      " 42%|████▏     | 84/200 [01:12<01:21,  1.42it/s]"
     ]
    },
    {
     "name": "stdout",
     "output_type": "stream",
     "text": [
      "0.3730570375919342\n",
      "1/1 [==============================] - 0s 2ms/step - loss: 0.1055\n",
      "0.1055254191160202\n",
      "1/1 [==============================] - 0s 1ms/step - loss: 0.1300\n",
      "0.12995292246341705\n",
      "1/1 [==============================] - 0s 2ms/step - loss: 0.6009\n"
     ]
    },
    {
     "name": "stderr",
     "output_type": "stream",
     "text": [
      " 42%|████▎     | 85/200 [01:13<01:23,  1.37it/s]"
     ]
    },
    {
     "name": "stdout",
     "output_type": "stream",
     "text": [
      "0.6009478569030762\n",
      "1/1 [==============================] - 0s 1ms/step - loss: 0.1086\n",
      "0.10863549262285233\n",
      "1/1 [==============================] - 0s 2ms/step - loss: 0.3589\n",
      "0.3588659167289734\n",
      "1/1 [==============================] - 0s 987us/step - loss: 0.3644\n"
     ]
    },
    {
     "name": "stderr",
     "output_type": "stream",
     "text": [
      " 43%|████▎     | 86/200 [01:14<01:22,  1.39it/s]"
     ]
    },
    {
     "name": "stdout",
     "output_type": "stream",
     "text": [
      "0.364375501871109\n",
      "1/1 [==============================] - 0s 2ms/step - loss: 0.1058\n",
      "0.10582579672336578\n",
      "1/1 [==============================] - 0s 1ms/step - loss: 0.3713\n",
      "0.3713081181049347\n",
      "1/1 [==============================] - 0s 2ms/step - loss: 0.3498\n"
     ]
    },
    {
     "name": "stderr",
     "output_type": "stream",
     "text": [
      " 44%|████▎     | 87/200 [01:14<01:22,  1.37it/s]"
     ]
    },
    {
     "name": "stdout",
     "output_type": "stream",
     "text": [
      "0.3498029112815857\n",
      "1/1 [==============================] - 0s 1ms/step - loss: 0.1046\n",
      "0.10460419207811356\n",
      "1/1 [==============================] - 0s 2ms/step - loss: 0.5994\n",
      "0.5994139313697815\n",
      "1/1 [==============================] - 0s 1ms/step - loss: 0.1185\n"
     ]
    },
    {
     "name": "stderr",
     "output_type": "stream",
     "text": [
      " 44%|████▍     | 88/200 [01:15<01:20,  1.39it/s]"
     ]
    },
    {
     "name": "stdout",
     "output_type": "stream",
     "text": [
      "0.1185227632522583\n",
      "1/1 [==============================] - 0s 1ms/step - loss: 0.3663\n",
      "0.36629700660705566\n",
      "1/1 [==============================] - 0s 2ms/step - loss: 0.3509\n",
      "0.35088589787483215\n",
      "1/1 [==============================] - 0s 999us/step - loss: 0.1011\n"
     ]
    },
    {
     "name": "stderr",
     "output_type": "stream",
     "text": [
      " 44%|████▍     | 89/200 [01:16<01:18,  1.41it/s]"
     ]
    },
    {
     "name": "stdout",
     "output_type": "stream",
     "text": [
      "0.10110116004943848\n",
      "1/1 [==============================] - 0s 2ms/step - loss: 0.1222\n",
      "0.12223257124423981\n",
      "1/1 [==============================] - 0s 1ms/step - loss: 0.3307\n",
      "0.33074095845222473\n",
      "1/1 [==============================] - 0s 2ms/step - loss: 0.3603\n"
     ]
    },
    {
     "name": "stderr",
     "output_type": "stream",
     "text": [
      " 45%|████▌     | 90/200 [01:16<01:16,  1.43it/s]"
     ]
    },
    {
     "name": "stdout",
     "output_type": "stream",
     "text": [
      "0.3603115975856781\n",
      "1/1 [==============================] - 0s 2ms/step - loss: 0.3625\n",
      "0.36249470710754395\n",
      "1/1 [==============================] - 0s 1ms/step - loss: 0.3343\n",
      "0.3342513144016266\n",
      "1/1 [==============================] - 0s 2ms/step - loss: 0.1121\n"
     ]
    },
    {
     "name": "stderr",
     "output_type": "stream",
     "text": [
      " 46%|████▌     | 91/200 [01:17<01:17,  1.41it/s]"
     ]
    },
    {
     "name": "stdout",
     "output_type": "stream",
     "text": [
      "0.11209307610988617\n",
      "1/1 [==============================] - 0s 2ms/step - loss: 0.1025\n",
      "0.10253007709980011\n",
      "1/1 [==============================] - 0s 1ms/step - loss: 0.3375\n",
      "0.3374517560005188\n",
      "1/1 [==============================] - 0s 2ms/step - loss: 0.3638\n"
     ]
    },
    {
     "name": "stderr",
     "output_type": "stream",
     "text": [
      " 46%|████▌     | 92/200 [01:18<01:16,  1.41it/s]"
     ]
    },
    {
     "name": "stdout",
     "output_type": "stream",
     "text": [
      "0.3637915253639221\n",
      "1/1 [==============================] - 0s 1ms/step - loss: 0.1207\n",
      "0.12065088748931885\n",
      "1/1 [==============================] - 0s 2ms/step - loss: 0.1034\n",
      "0.1033516600728035\n",
      "1/1 [==============================] - 0s 1ms/step - loss: 0.5752\n"
     ]
    },
    {
     "name": "stderr",
     "output_type": "stream",
     "text": [
      " 46%|████▋     | 93/200 [01:19<01:15,  1.41it/s]"
     ]
    },
    {
     "name": "stdout",
     "output_type": "stream",
     "text": [
      "0.5752095580101013\n",
      "1/1 [==============================] - 0s 2ms/step - loss: 0.3596\n",
      "0.35962918400764465\n",
      "1/1 [==============================] - 0s 1ms/step - loss: 0.3205\n",
      "0.3205493092536926\n",
      "1/1 [==============================] - 0s 2ms/step - loss: 0.1152\n"
     ]
    },
    {
     "name": "stderr",
     "output_type": "stream",
     "text": [
      " 47%|████▋     | 94/200 [01:19<01:15,  1.41it/s]"
     ]
    },
    {
     "name": "stdout",
     "output_type": "stream",
     "text": [
      "0.11515961587429047\n",
      "1/1 [==============================] - 0s 999us/step - loss: 0.1044\n",
      "0.1043606698513031\n",
      "1/1 [==============================] - 0s 2ms/step - loss: 0.5711\n",
      "0.5710700154304504\n",
      "1/1 [==============================] - 0s 2ms/step - loss: 0.1151\n"
     ]
    },
    {
     "name": "stderr",
     "output_type": "stream",
     "text": [
      " 48%|████▊     | 95/200 [01:20<01:13,  1.43it/s]"
     ]
    },
    {
     "name": "stdout",
     "output_type": "stream",
     "text": [
      "0.11505130678415298\n",
      "1/1 [==============================] - 0s 1ms/step - loss: 0.5728\n",
      "0.5728318095207214\n",
      "1/1 [==============================] - 0s 1ms/step - loss: 0.1064\n",
      "0.10644116252660751\n",
      "1/1 [==============================] - 0s 1ms/step - loss: 0.1078\n"
     ]
    },
    {
     "name": "stderr",
     "output_type": "stream",
     "text": [
      " 48%|████▊     | 96/200 [01:21<01:11,  1.46it/s]"
     ]
    },
    {
     "name": "stdout",
     "output_type": "stream",
     "text": [
      "0.10784649103879929\n",
      "1/1 [==============================] - 0s 2ms/step - loss: 0.1026\n",
      "0.10260282456874847\n",
      "1/1 [==============================] - 0s 1ms/step - loss: 0.1023\n",
      "0.10226166248321533\n",
      "1/1 [==============================] - 0s 2ms/step - loss: 0.5762\n"
     ]
    },
    {
     "name": "stderr",
     "output_type": "stream",
     "text": [
      " 48%|████▊     | 97/200 [01:21<01:11,  1.45it/s]"
     ]
    },
    {
     "name": "stdout",
     "output_type": "stream",
     "text": [
      "0.5761864185333252\n",
      "1/1 [==============================] - 0s 1ms/step - loss: 0.3549\n",
      "0.35490426421165466\n",
      "1/1 [==============================] - 0s 1ms/step - loss: 0.3243\n",
      "0.32427266240119934\n",
      "1/1 [==============================] - 0s 1ms/step - loss: 0.0988\n"
     ]
    },
    {
     "name": "stderr",
     "output_type": "stream",
     "text": [
      " 49%|████▉     | 98/200 [01:22<01:10,  1.45it/s]"
     ]
    },
    {
     "name": "stdout",
     "output_type": "stream",
     "text": [
      "0.0987643450498581\n",
      "1/1 [==============================] - 0s 1ms/step - loss: 0.3099\n",
      "0.30990123748779297\n",
      "1/1 [==============================] - 0s 2ms/step - loss: 0.1052\n",
      "0.1051749587059021\n",
      "1/1 [==============================] - 0s 1ms/step - loss: 0.3585\n"
     ]
    },
    {
     "name": "stderr",
     "output_type": "stream",
     "text": [
      " 50%|████▉     | 99/200 [01:23<01:08,  1.47it/s]"
     ]
    },
    {
     "name": "stdout",
     "output_type": "stream",
     "text": [
      "0.3584721088409424\n",
      "1/1 [==============================] - 0s 1ms/step - loss: 0.1089\n",
      "0.10889405012130737\n",
      "1/1 [==============================] - 0s 2ms/step - loss: 0.5592\n",
      "0.5591848492622375\n",
      "1/1 [==============================] - 0s 2ms/step - loss: 0.1007\n"
     ]
    },
    {
     "name": "stderr",
     "output_type": "stream",
     "text": [
      " 50%|█████     | 100/200 [01:23<01:07,  1.48it/s]"
     ]
    },
    {
     "name": "stdout",
     "output_type": "stream",
     "text": [
      "0.1007133424282074\n",
      "1/1 [==============================] - 0s 1ms/step - loss: 0.5585\n",
      "0.5585392117500305\n",
      "1/1 [==============================] - 0s 2ms/step - loss: 0.1091\n",
      "0.1090569719672203\n",
      "1/1 [==============================] - 0s 1ms/step - loss: 0.0977\n"
     ]
    },
    {
     "name": "stderr",
     "output_type": "stream",
     "text": [
      " 50%|█████     | 101/200 [01:24<01:07,  1.46it/s]"
     ]
    },
    {
     "name": "stdout",
     "output_type": "stream",
     "text": [
      "0.09767462313175201\n",
      "1/1 [==============================] - 0s 1ms/step - loss: 0.3458\n",
      "0.34580758213996887\n",
      "1/1 [==============================] - 0s 2ms/step - loss: 0.1099\n",
      "0.10987979173660278\n",
      "1/1 [==============================] - 0s 2ms/step - loss: 0.3037\n"
     ]
    },
    {
     "name": "stderr",
     "output_type": "stream",
     "text": [
      " 51%|█████     | 102/200 [01:25<01:07,  1.46it/s]"
     ]
    },
    {
     "name": "stdout",
     "output_type": "stream",
     "text": [
      "0.30374646186828613\n",
      "1/1 [==============================] - 0s 2ms/step - loss: 0.1052\n",
      "0.10523739457130432\n",
      "1/1 [==============================] - 0s 1ms/step - loss: 0.3441\n",
      "0.34408071637153625\n",
      "1/1 [==============================] - 0s 2ms/step - loss: 0.3057\n"
     ]
    },
    {
     "name": "stderr",
     "output_type": "stream",
     "text": [
      " 52%|█████▏    | 103/200 [01:25<01:07,  1.45it/s]"
     ]
    },
    {
     "name": "stdout",
     "output_type": "stream",
     "text": [
      "0.3057015836238861\n",
      "1/1 [==============================] - 0s 2ms/step - loss: 0.1036\n",
      "0.1035870611667633\n",
      "1/1 [==============================] - 0s 2ms/step - loss: 0.1013\n",
      "0.10126866400241852\n",
      "1/1 [==============================] - 0s 1ms/step - loss: 0.5458\n"
     ]
    },
    {
     "name": "stderr",
     "output_type": "stream",
     "text": [
      " 52%|█████▏    | 104/200 [01:26<01:05,  1.47it/s]"
     ]
    },
    {
     "name": "stdout",
     "output_type": "stream",
     "text": [
      "0.5458025336265564\n",
      "1/1 [==============================] - 0s 2ms/step - loss: 0.1051\n",
      "0.10505571216344833\n",
      "1/1 [==============================] - 0s 1ms/step - loss: 0.1007\n",
      "0.10065888613462448\n",
      "1/1 [==============================] - 0s 2ms/step - loss: 0.5404\n"
     ]
    },
    {
     "name": "stderr",
     "output_type": "stream",
     "text": [
      " 52%|█████▎    | 105/200 [01:27<01:05,  1.45it/s]"
     ]
    },
    {
     "name": "stdout",
     "output_type": "stream",
     "text": [
      "0.5403839349746704\n",
      "1/1 [==============================] - 0s 2ms/step - loss: 0.1026\n",
      "0.10257486999034882\n",
      "1/1 [==============================] - 0s 2ms/step - loss: 0.3005\n",
      "0.3004853129386902\n",
      "1/1 [==============================] - 0s 2ms/step - loss: 0.3392\n"
     ]
    },
    {
     "name": "stderr",
     "output_type": "stream",
     "text": [
      " 53%|█████▎    | 106/200 [01:27<01:04,  1.46it/s]"
     ]
    },
    {
     "name": "stdout",
     "output_type": "stream",
     "text": [
      "0.33915975689888\n",
      "1/1 [==============================] - 0s 1ms/step - loss: 0.3443\n",
      "0.3443322479724884\n",
      "1/1 [==============================] - 0s 2ms/step - loss: 0.1081\n",
      "0.10809540748596191\n",
      "1/1 [==============================] - 0s 1ms/step - loss: 0.2842\n"
     ]
    },
    {
     "name": "stderr",
     "output_type": "stream",
     "text": [
      " 54%|█████▎    | 107/200 [01:28<01:03,  1.46it/s]"
     ]
    },
    {
     "name": "stdout",
     "output_type": "stream",
     "text": [
      "0.28419917821884155\n",
      "1/1 [==============================] - 0s 2ms/step - loss: 0.2844\n",
      "0.28440845012664795\n",
      "1/1 [==============================] - 0s 2ms/step - loss: 0.1010\n",
      "0.10103907436132431\n",
      "1/1 [==============================] - 0s 1ms/step - loss: 0.3475\n"
     ]
    },
    {
     "name": "stderr",
     "output_type": "stream",
     "text": [
      " 54%|█████▍    | 108/200 [01:29<01:04,  1.44it/s]"
     ]
    },
    {
     "name": "stdout",
     "output_type": "stream",
     "text": [
      "0.3475145101547241\n",
      "1/1 [==============================] - 0s 1ms/step - loss: 0.3416\n",
      "0.3416330814361572\n",
      "1/1 [==============================] - 0s 2ms/step - loss: 0.0994\n",
      "0.09941277652978897\n",
      "1/1 [==============================] - 0s 2ms/step - loss: 0.2843\n"
     ]
    },
    {
     "name": "stderr",
     "output_type": "stream",
     "text": [
      " 55%|█████▍    | 109/200 [01:30<01:04,  1.41it/s]"
     ]
    },
    {
     "name": "stdout",
     "output_type": "stream",
     "text": [
      "0.2843225598335266\n",
      "1/1 [==============================] - 0s 1ms/step - loss: 0.3395\n",
      "0.33945992588996887\n",
      "1/1 [==============================] - 0s 2ms/step - loss: 0.2842\n",
      "0.28420543670654297\n",
      "1/1 [==============================] - 0s 1ms/step - loss: 0.0969\n"
     ]
    },
    {
     "name": "stderr",
     "output_type": "stream",
     "text": [
      " 55%|█████▌    | 110/200 [01:30<01:03,  1.43it/s]"
     ]
    },
    {
     "name": "stdout",
     "output_type": "stream",
     "text": [
      "0.09692490845918655\n",
      "1/1 [==============================] - 0s 2ms/step - loss: 0.1010\n",
      "0.1010001003742218\n",
      "1/1 [==============================] - 0s 2ms/step - loss: 0.2701\n",
      "0.27012380957603455\n",
      "1/1 [==============================] - 0s 2ms/step - loss: 0.3414\n"
     ]
    },
    {
     "name": "stderr",
     "output_type": "stream",
     "text": [
      " 56%|█████▌    | 111/200 [01:31<01:02,  1.43it/s]"
     ]
    },
    {
     "name": "stdout",
     "output_type": "stream",
     "text": [
      "0.3413873612880707\n",
      "1/1 [==============================] - 0s 2ms/step - loss: 0.2692\n",
      "0.26916149258613586\n",
      "1/1 [==============================] - 0s 2ms/step - loss: 0.3360\n",
      "0.3360331654548645\n",
      "1/1 [==============================] - 0s 2ms/step - loss: 0.0990\n"
     ]
    },
    {
     "name": "stderr",
     "output_type": "stream",
     "text": [
      " 56%|█████▌    | 112/200 [01:32<01:01,  1.44it/s]"
     ]
    },
    {
     "name": "stdout",
     "output_type": "stream",
     "text": [
      "0.09903205186128616\n",
      "1/1 [==============================] - 0s 1ms/step - loss: 0.0996\n",
      "0.09962962567806244\n",
      "1/1 [==============================] - 0s 2ms/step - loss: 0.2118\n",
      "0.21181891858577728\n",
      "1/1 [==============================] - 0s 2ms/step - loss: 0.3393\n"
     ]
    },
    {
     "name": "stderr",
     "output_type": "stream",
     "text": [
      " 56%|█████▋    | 113/200 [01:32<01:00,  1.44it/s]"
     ]
    },
    {
     "name": "stdout",
     "output_type": "stream",
     "text": [
      "0.33933213353157043\n",
      "1/1 [==============================] - 0s 1ms/step - loss: 0.1012\n",
      "0.10124688595533371\n",
      "1/1 [==============================] - 0s 2ms/step - loss: 0.1005\n",
      "0.10053412616252899\n",
      "1/1 [==============================] - 0s 990us/step - loss: 0.3838\n"
     ]
    },
    {
     "name": "stderr",
     "output_type": "stream",
     "text": [
      " 57%|█████▋    | 114/200 [01:33<01:00,  1.43it/s]"
     ]
    },
    {
     "name": "stdout",
     "output_type": "stream",
     "text": [
      "0.3837847113609314\n",
      "1/1 [==============================] - 0s 2ms/step - loss: 0.0995\n",
      "0.09948821365833282\n",
      "1/1 [==============================] - 0s 2ms/step - loss: 0.3649\n",
      "0.36486679315567017\n",
      "1/1 [==============================] - 0s 2ms/step - loss: 0.0996\n"
     ]
    },
    {
     "name": "stderr",
     "output_type": "stream",
     "text": [
      " 57%|█████▊    | 115/200 [01:34<00:58,  1.44it/s]"
     ]
    },
    {
     "name": "stdout",
     "output_type": "stream",
     "text": [
      "0.09958381950855255\n",
      "1/1 [==============================] - 0s 1ms/step - loss: 0.1187\n",
      "0.11867514252662659\n",
      "1/1 [==============================] - 0s 1ms/step - loss: 0.3339\n",
      "0.33392858505249023\n",
      "1/1 [==============================] - 0s 2ms/step - loss: 0.1027\n"
     ]
    },
    {
     "name": "stderr",
     "output_type": "stream",
     "text": [
      " 58%|█████▊    | 116/200 [01:34<00:58,  1.43it/s]"
     ]
    },
    {
     "name": "stdout",
     "output_type": "stream",
     "text": [
      "0.10270426422357559\n",
      "1/1 [==============================] - 0s 2ms/step - loss: 0.3294\n",
      "0.329359233379364\n",
      "1/1 [==============================] - 0s 2ms/step - loss: 0.1206\n",
      "0.12063683569431305\n",
      "1/1 [==============================] - 0s 1ms/step - loss: 0.0993\n"
     ]
    },
    {
     "name": "stderr",
     "output_type": "stream",
     "text": [
      " 58%|█████▊    | 117/200 [01:35<00:58,  1.42it/s]"
     ]
    },
    {
     "name": "stdout",
     "output_type": "stream",
     "text": [
      "0.09927614033222198\n",
      "1/1 [==============================] - 0s 2ms/step - loss: 0.1166\n",
      "0.1165800541639328\n",
      "1/1 [==============================] - 0s 2ms/step - loss: 0.0952\n",
      "0.09515514969825745\n",
      "1/1 [==============================] - 0s 1ms/step - loss: 0.0998\n"
     ]
    },
    {
     "name": "stderr",
     "output_type": "stream",
     "text": [
      " 59%|█████▉    | 118/200 [01:36<00:56,  1.45it/s]"
     ]
    },
    {
     "name": "stdout",
     "output_type": "stream",
     "text": [
      "0.09982971847057343\n",
      "1/1 [==============================] - 0s 2ms/step - loss: 0.0927\n",
      "0.09274876117706299\n",
      "1/1 [==============================] - 0s 1ms/step - loss: 0.0972\n",
      "0.097224161028862\n",
      "1/1 [==============================] - 0s 2ms/step - loss: 0.1123\n"
     ]
    },
    {
     "name": "stderr",
     "output_type": "stream",
     "text": [
      " 60%|█████▉    | 119/200 [01:37<00:57,  1.42it/s]"
     ]
    },
    {
     "name": "stdout",
     "output_type": "stream",
     "text": [
      "0.1123422160744667\n",
      "1/1 [==============================] - 0s 2ms/step - loss: 0.1082\n",
      "0.10816355794668198\n",
      "1/1 [==============================] - 0s 2ms/step - loss: 0.0918\n",
      "0.09179915487766266\n",
      "1/1 [==============================] - 0s 2ms/step - loss: 0.0944\n"
     ]
    },
    {
     "name": "stderr",
     "output_type": "stream",
     "text": [
      " 60%|██████    | 120/200 [01:37<00:56,  1.41it/s]"
     ]
    },
    {
     "name": "stdout",
     "output_type": "stream",
     "text": [
      "0.0943530946969986\n",
      "1/1 [==============================] - 0s 2ms/step - loss: 0.0931\n",
      "0.09310461580753326\n",
      "1/1 [==============================] - 0s 2ms/step - loss: 0.1051\n",
      "0.10507234930992126\n",
      "1/1 [==============================] - 0s 2ms/step - loss: 0.0862\n"
     ]
    },
    {
     "name": "stderr",
     "output_type": "stream",
     "text": [
      " 60%|██████    | 121/200 [01:38<00:56,  1.41it/s]"
     ]
    },
    {
     "name": "stdout",
     "output_type": "stream",
     "text": [
      "0.08620907366275787\n",
      "1/1 [==============================] - 0s 2ms/step - loss: 0.1002\n",
      "0.1002277061343193\n",
      "1/1 [==============================] - 0s 1ms/step - loss: 0.0899\n",
      "0.08990329504013062\n",
      "1/1 [==============================] - 0s 1ms/step - loss: 0.0850\n"
     ]
    },
    {
     "name": "stderr",
     "output_type": "stream",
     "text": [
      " 61%|██████    | 122/200 [01:39<00:56,  1.39it/s]"
     ]
    },
    {
     "name": "stdout",
     "output_type": "stream",
     "text": [
      "0.08496938645839691\n",
      "1/1 [==============================] - 0s 2ms/step - loss: 0.0864\n",
      "0.08642680943012238\n",
      "1/1 [==============================] - 0s 2ms/step - loss: 0.0960\n",
      "0.09604015201330185\n",
      "1/1 [==============================] - 0s 2ms/step - loss: 0.0834\n"
     ]
    },
    {
     "name": "stderr",
     "output_type": "stream",
     "text": [
      " 62%|██████▏   | 123/200 [01:39<00:55,  1.40it/s]"
     ]
    },
    {
     "name": "stdout",
     "output_type": "stream",
     "text": [
      "0.08335088938474655\n",
      "1/1 [==============================] - 0s 1ms/step - loss: 0.0851\n",
      "0.08511814475059509\n",
      "1/1 [==============================] - 0s 2ms/step - loss: 0.0934\n",
      "0.09343850612640381\n",
      "1/1 [==============================] - 0s 1ms/step - loss: 0.0785\n"
     ]
    },
    {
     "name": "stderr",
     "output_type": "stream",
     "text": [
      " 62%|██████▏   | 124/200 [01:40<00:54,  1.39it/s]"
     ]
    },
    {
     "name": "stdout",
     "output_type": "stream",
     "text": [
      "0.07848896086215973\n",
      "1/1 [==============================] - 0s 2ms/step - loss: 0.0791\n",
      "0.07914116978645325\n",
      "1/1 [==============================] - 0s 1ms/step - loss: 0.0786\n",
      "0.07864758372306824\n",
      "1/1 [==============================] - 0s 993us/step - loss: 0.0906\n"
     ]
    },
    {
     "name": "stderr",
     "output_type": "stream",
     "text": [
      " 62%|██████▎   | 125/200 [01:41<00:53,  1.39it/s]"
     ]
    },
    {
     "name": "stdout",
     "output_type": "stream",
     "text": [
      "0.09059495478868484\n",
      "1/1 [==============================] - 0s 2ms/step - loss: 0.0747\n",
      "0.07471485435962677\n",
      "1/1 [==============================] - 0s 2ms/step - loss: 0.0900\n",
      "0.08998054265975952\n",
      "1/1 [==============================] - 0s 1000us/step - loss: 0.0762\n"
     ]
    },
    {
     "name": "stderr",
     "output_type": "stream",
     "text": [
      " 63%|██████▎   | 126/200 [01:42<00:52,  1.41it/s]"
     ]
    },
    {
     "name": "stdout",
     "output_type": "stream",
     "text": [
      "0.07616876065731049\n",
      "1/1 [==============================] - 0s 2ms/step - loss: 0.0786\n",
      "0.07862895727157593\n",
      "1/1 [==============================] - 0s 2ms/step - loss: 0.0804\n",
      "0.08039268851280212\n",
      "1/1 [==============================] - 0s 1ms/step - loss: 0.0744\n"
     ]
    },
    {
     "name": "stderr",
     "output_type": "stream",
     "text": [
      " 64%|██████▎   | 127/200 [01:42<00:50,  1.44it/s]"
     ]
    },
    {
     "name": "stdout",
     "output_type": "stream",
     "text": [
      "0.07443426549434662\n",
      "1/1 [==============================] - 0s 1ms/step - loss: 0.0783\n",
      "0.07825706154108047\n",
      "1/1 [==============================] - 0s 1ms/step - loss: 0.0716\n",
      "0.07157310843467712\n",
      "1/1 [==============================] - 0s 1ms/step - loss: 0.0766\n"
     ]
    },
    {
     "name": "stderr",
     "output_type": "stream",
     "text": [
      " 64%|██████▍   | 128/200 [01:43<00:49,  1.45it/s]"
     ]
    },
    {
     "name": "stdout",
     "output_type": "stream",
     "text": [
      "0.0766267329454422\n",
      "1/1 [==============================] - 0s 2ms/step - loss: 0.0692\n",
      "0.06920342147350311\n",
      "1/1 [==============================] - 0s 2ms/step - loss: 0.0734\n",
      "0.07344931364059448\n",
      "1/1 [==============================] - 0s 2ms/step - loss: 0.0773\n"
     ]
    },
    {
     "name": "stderr",
     "output_type": "stream",
     "text": [
      " 64%|██████▍   | 129/200 [01:44<00:48,  1.47it/s]"
     ]
    },
    {
     "name": "stdout",
     "output_type": "stream",
     "text": [
      "0.0772942304611206\n",
      "1/1 [==============================] - 0s 2ms/step - loss: 0.0676\n",
      "0.06763438880443573\n",
      "1/1 [==============================] - 0s 987us/step - loss: 0.0743\n",
      "0.0742633268237114\n",
      "1/1 [==============================] - 0s 2ms/step - loss: 0.0721\n"
     ]
    },
    {
     "name": "stderr",
     "output_type": "stream",
     "text": [
      " 65%|██████▌   | 130/200 [01:44<00:47,  1.46it/s]"
     ]
    },
    {
     "name": "stdout",
     "output_type": "stream",
     "text": [
      "0.07212848216295242\n",
      "1/1 [==============================] - 0s 2ms/step - loss: 0.0711\n",
      "0.07112102955579758\n",
      "1/1 [==============================] - 0s 2ms/step - loss: 0.0752\n",
      "0.07519116252660751\n",
      "1/1 [==============================] - 0s 2ms/step - loss: 0.0621\n"
     ]
    },
    {
     "name": "stderr",
     "output_type": "stream",
     "text": [
      " 66%|██████▌   | 131/200 [01:45<00:47,  1.45it/s]"
     ]
    },
    {
     "name": "stdout",
     "output_type": "stream",
     "text": [
      "0.0620674304664135\n",
      "1/1 [==============================] - 0s 1ms/step - loss: 0.0666\n",
      "0.0666300356388092\n",
      "1/1 [==============================] - 0s 1ms/step - loss: 0.0753\n",
      "0.07531137764453888\n",
      "1/1 [==============================] - 0s 1ms/step - loss: 0.0611\n"
     ]
    },
    {
     "name": "stderr",
     "output_type": "stream",
     "text": [
      " 66%|██████▌   | 132/200 [01:46<00:46,  1.47it/s]"
     ]
    },
    {
     "name": "stdout",
     "output_type": "stream",
     "text": [
      "0.06108587235212326\n",
      "1/1 [==============================] - 0s 2ms/step - loss: 0.0677\n",
      "0.06766532361507416\n",
      "1/1 [==============================] - 0s 1ms/step - loss: 0.0623\n",
      "0.06228884309530258\n",
      "1/1 [==============================] - 0s 2ms/step - loss: 0.0680\n"
     ]
    },
    {
     "name": "stderr",
     "output_type": "stream",
     "text": [
      " 66%|██████▋   | 133/200 [01:46<00:45,  1.46it/s]"
     ]
    },
    {
     "name": "stdout",
     "output_type": "stream",
     "text": [
      "0.0680314153432846\n",
      "1/1 [==============================] - 0s 2ms/step - loss: 0.0717\n",
      "0.07170703262090683\n",
      "1/1 [==============================] - 0s 1ms/step - loss: 0.0618\n",
      "0.0617668591439724\n",
      "1/1 [==============================] - 0s 1ms/step - loss: 0.0598\n"
     ]
    },
    {
     "name": "stderr",
     "output_type": "stream",
     "text": [
      " 67%|██████▋   | 134/200 [01:47<00:45,  1.45it/s]"
     ]
    },
    {
     "name": "stdout",
     "output_type": "stream",
     "text": [
      "0.059787362813949585\n",
      "1/1 [==============================] - 0s 1ms/step - loss: 0.0649\n",
      "0.06491789221763611\n",
      "1/1 [==============================] - 0s 2ms/step - loss: 0.0595\n",
      "0.0594942532479763\n",
      "1/1 [==============================] - 0s 2ms/step - loss: 0.0643\n"
     ]
    },
    {
     "name": "stderr",
     "output_type": "stream",
     "text": [
      " 68%|██████▊   | 135/200 [01:48<00:45,  1.43it/s]"
     ]
    },
    {
     "name": "stdout",
     "output_type": "stream",
     "text": [
      "0.06428951025009155\n",
      "1/1 [==============================] - 0s 2ms/step - loss: 0.0592\n",
      "0.05922010540962219\n",
      "1/1 [==============================] - 0s 1ms/step - loss: 0.0642\n",
      "0.06420451402664185\n",
      "1/1 [==============================] - 0s 2ms/step - loss: 0.0609\n"
     ]
    },
    {
     "name": "stderr",
     "output_type": "stream",
     "text": [
      " 68%|██████▊   | 136/200 [01:48<00:44,  1.43it/s]"
     ]
    },
    {
     "name": "stdout",
     "output_type": "stream",
     "text": [
      "0.06092076748609543\n",
      "1/1 [==============================] - 0s 1ms/step - loss: 0.0628\n",
      "0.06283241510391235\n",
      "1/1 [==============================] - 0s 2ms/step - loss: 0.0614\n",
      "0.06137441098690033\n",
      "1/1 [==============================] - 0s 2ms/step - loss: 0.0562\n"
     ]
    },
    {
     "name": "stderr",
     "output_type": "stream",
     "text": [
      " 68%|██████▊   | 137/200 [01:49<00:43,  1.44it/s]"
     ]
    },
    {
     "name": "stdout",
     "output_type": "stream",
     "text": [
      "0.056227222084999084\n",
      "1/1 [==============================] - 0s 2ms/step - loss: 0.0560\n",
      "0.05602693557739258\n",
      "1/1 [==============================] - 0s 1ms/step - loss: 0.0650\n",
      "0.06497776508331299\n",
      "1/1 [==============================] - 0s 1000us/step - loss: 0.0555\n"
     ]
    },
    {
     "name": "stderr",
     "output_type": "stream",
     "text": [
      " 69%|██████▉   | 138/200 [01:50<00:42,  1.45it/s]"
     ]
    },
    {
     "name": "stdout",
     "output_type": "stream",
     "text": [
      "0.055495455861091614\n",
      "1/1 [==============================] - 0s 1ms/step - loss: 0.0575\n",
      "0.05749635398387909\n",
      "1/1 [==============================] - 0s 1ms/step - loss: 0.0590\n",
      "0.05902136489748955\n",
      "1/1 [==============================] - 0s 2ms/step - loss: 0.0563\n"
     ]
    },
    {
     "name": "stderr",
     "output_type": "stream",
     "text": [
      " 70%|██████▉   | 139/200 [01:50<00:43,  1.42it/s]"
     ]
    },
    {
     "name": "stdout",
     "output_type": "stream",
     "text": [
      "0.056337740272283554\n",
      "1/1 [==============================] - 0s 1ms/step - loss: 0.0552\n",
      "0.05519021674990654\n",
      "1/1 [==============================] - 0s 2ms/step - loss: 0.0537\n",
      "0.05365306884050369\n",
      "1/1 [==============================] - 0s 1ms/step - loss: 0.0604\n"
     ]
    },
    {
     "name": "stderr",
     "output_type": "stream",
     "text": [
      " 70%|███████   | 140/200 [01:51<00:41,  1.44it/s]"
     ]
    },
    {
     "name": "stdout",
     "output_type": "stream",
     "text": [
      "0.06044378876686096\n",
      "1/1 [==============================] - 0s 2ms/step - loss: 0.0548\n",
      "0.05480288714170456\n",
      "1/1 [==============================] - 0s 1ms/step - loss: 0.0587\n",
      "0.05866733193397522\n",
      "1/1 [==============================] - 0s 2ms/step - loss: 0.0525\n"
     ]
    },
    {
     "name": "stderr",
     "output_type": "stream",
     "text": [
      " 70%|███████   | 141/200 [01:52<00:40,  1.44it/s]"
     ]
    },
    {
     "name": "stdout",
     "output_type": "stream",
     "text": [
      "0.052520014345645905\n",
      "1/1 [==============================] - 0s 2ms/step - loss: 0.0541\n",
      "0.054059579968452454\n",
      "1/1 [==============================] - 0s 2ms/step - loss: 0.0561\n",
      "0.05613253638148308\n",
      "1/1 [==============================] - 0s 2ms/step - loss: 0.0526\n"
     ]
    },
    {
     "name": "stderr",
     "output_type": "stream",
     "text": [
      " 71%|███████   | 142/200 [01:53<00:40,  1.42it/s]"
     ]
    },
    {
     "name": "stdout",
     "output_type": "stream",
     "text": [
      "0.052569881081581116\n",
      "1/1 [==============================] - 0s 2ms/step - loss: 0.0502\n",
      "0.0501621812582016\n",
      "1/1 [==============================] - 0s 2ms/step - loss: 0.0531\n",
      "0.05310603603720665\n",
      "1/1 [==============================] - 0s 2ms/step - loss: 0.0564\n"
     ]
    },
    {
     "name": "stderr",
     "output_type": "stream",
     "text": [
      " 72%|███████▏  | 143/200 [01:53<00:39,  1.44it/s]"
     ]
    },
    {
     "name": "stdout",
     "output_type": "stream",
     "text": [
      "0.05637120455503464\n",
      "1/1 [==============================] - 0s 1ms/step - loss: 0.0530\n",
      "0.053026556968688965\n",
      "1/1 [==============================] - 0s 2ms/step - loss: 0.0544\n",
      "0.05437441170215607\n",
      "1/1 [==============================] - 0s 1ms/step - loss: 0.0493\n"
     ]
    },
    {
     "name": "stderr",
     "output_type": "stream",
     "text": [
      " 72%|███████▏  | 144/200 [01:54<00:38,  1.45it/s]"
     ]
    },
    {
     "name": "stdout",
     "output_type": "stream",
     "text": [
      "0.049344751983881\n",
      "1/1 [==============================] - 0s 2ms/step - loss: 0.0511\n",
      "0.051073215901851654\n",
      "1/1 [==============================] - 0s 1ms/step - loss: 0.0516\n",
      "0.051610998809337616\n",
      "1/1 [==============================] - 0s 2ms/step - loss: 0.0511\n"
     ]
    },
    {
     "name": "stderr",
     "output_type": "stream",
     "text": [
      " 72%|███████▎  | 145/200 [01:55<00:37,  1.45it/s]"
     ]
    },
    {
     "name": "stdout",
     "output_type": "stream",
     "text": [
      "0.05114932358264923\n",
      "1/1 [==============================] - 0s 2ms/step - loss: 0.0505\n",
      "0.050546884536743164\n",
      "1/1 [==============================] - 0s 2ms/step - loss: 0.0528\n",
      "0.05282316356897354\n",
      "1/1 [==============================] - 0s 1ms/step - loss: 0.0478\n"
     ]
    },
    {
     "name": "stderr",
     "output_type": "stream",
     "text": [
      " 73%|███████▎  | 146/200 [01:55<00:37,  1.44it/s]"
     ]
    },
    {
     "name": "stdout",
     "output_type": "stream",
     "text": [
      "0.04776138812303543\n",
      "1/1 [==============================] - 0s 1ms/step - loss: 0.0501\n",
      "0.05008983612060547\n",
      "1/1 [==============================] - 0s 2ms/step - loss: 0.0473\n",
      "0.04728291928768158\n",
      "1/1 [==============================] - 0s 1ms/step - loss: 0.0511\n"
     ]
    },
    {
     "name": "stderr",
     "output_type": "stream",
     "text": [
      " 74%|███████▎  | 147/200 [01:56<00:37,  1.42it/s]"
     ]
    },
    {
     "name": "stdout",
     "output_type": "stream",
     "text": [
      "0.05105690658092499\n",
      "1/1 [==============================] - 0s 2ms/step - loss: 0.0477\n",
      "0.047704752534627914\n",
      "1/1 [==============================] - 0s 1ms/step - loss: 0.0531\n",
      "0.053109828382730484\n",
      "1/1 [==============================] - 0s 2ms/step - loss: 0.0451\n"
     ]
    },
    {
     "name": "stderr",
     "output_type": "stream",
     "text": [
      " 74%|███████▍  | 148/200 [01:57<00:36,  1.42it/s]"
     ]
    },
    {
     "name": "stdout",
     "output_type": "stream",
     "text": [
      "0.04509734362363815\n",
      "1/1 [==============================] - 0s 999us/step - loss: 0.0481\n",
      "0.048132408410310745\n",
      "1/1 [==============================] - 0s 2ms/step - loss: 0.0449\n",
      "0.044870972633361816\n",
      "1/1 [==============================] - 0s 2ms/step - loss: 0.0504\n"
     ]
    },
    {
     "name": "stderr",
     "output_type": "stream",
     "text": [
      " 74%|███████▍  | 149/200 [01:58<00:36,  1.39it/s]"
     ]
    },
    {
     "name": "stdout",
     "output_type": "stream",
     "text": [
      "0.050415169447660446\n",
      "1/1 [==============================] - 0s 993us/step - loss: 0.0454\n",
      "0.04537012428045273\n",
      "1/1 [==============================] - 0s 1ms/step - loss: 0.0521\n",
      "0.052074648439884186\n",
      "1/1 [==============================] - 0s 2ms/step - loss: 0.0436\n"
     ]
    },
    {
     "name": "stderr",
     "output_type": "stream",
     "text": [
      " 75%|███████▌  | 150/200 [01:58<00:35,  1.40it/s]"
     ]
    },
    {
     "name": "stdout",
     "output_type": "stream",
     "text": [
      "0.0436231791973114\n",
      "1/1 [==============================] - 0s 1ms/step - loss: 0.0480\n",
      "0.047986842691898346\n",
      "1/1 [==============================] - 0s 1ms/step - loss: 0.0469\n",
      "0.046887315809726715\n",
      "1/1 [==============================] - 0s 2ms/step - loss: 0.0439\n"
     ]
    },
    {
     "name": "stderr",
     "output_type": "stream",
     "text": [
      " 76%|███████▌  | 151/200 [01:59<00:35,  1.40it/s]"
     ]
    },
    {
     "name": "stdout",
     "output_type": "stream",
     "text": [
      "0.043879348784685135\n",
      "1/1 [==============================] - 0s 1ms/step - loss: 0.0458\n",
      "0.04582812637090683\n",
      "1/1 [==============================] - 0s 2ms/step - loss: 0.0471\n",
      "0.04710854962468147\n",
      "1/1 [==============================] - 0s 1ms/step - loss: 0.0436\n"
     ]
    },
    {
     "name": "stderr",
     "output_type": "stream",
     "text": [
      " 76%|███████▌  | 152/200 [02:00<00:33,  1.42it/s]"
     ]
    },
    {
     "name": "stdout",
     "output_type": "stream",
     "text": [
      "0.0435950830578804\n",
      "1/1 [==============================] - 0s 2ms/step - loss: 0.0457\n",
      "0.045663848519325256\n",
      "1/1 [==============================] - 0s 1ms/step - loss: 0.0437\n",
      "0.04371541365981102\n",
      "1/1 [==============================] - 0s 2ms/step - loss: 0.0450\n"
     ]
    },
    {
     "name": "stderr",
     "output_type": "stream",
     "text": [
      " 76%|███████▋  | 153/200 [02:00<00:32,  1.45it/s]"
     ]
    },
    {
     "name": "stdout",
     "output_type": "stream",
     "text": [
      "0.044988058507442474\n",
      "1/1 [==============================] - 0s 2ms/step - loss: 0.0457\n",
      "0.04572591930627823\n",
      "1/1 [==============================] - 0s 997us/step - loss: 0.0418\n",
      "0.04179007187485695\n",
      "1/1 [==============================] - 0s 1ms/step - loss: 0.0448\n"
     ]
    },
    {
     "name": "stderr",
     "output_type": "stream",
     "text": [
      " 77%|███████▋  | 154/200 [02:01<00:32,  1.43it/s]"
     ]
    },
    {
     "name": "stdout",
     "output_type": "stream",
     "text": [
      "0.04479247331619263\n",
      "1/1 [==============================] - 0s 1ms/step - loss: 0.0410\n",
      "0.04101922735571861\n",
      "1/1 [==============================] - 0s 1ms/step - loss: 0.0473\n",
      "0.04728163778781891\n",
      "1/1 [==============================] - 0s 2ms/step - loss: 0.0420\n"
     ]
    },
    {
     "name": "stderr",
     "output_type": "stream",
     "text": [
      " 78%|███████▊  | 155/200 [02:02<00:31,  1.45it/s]"
     ]
    },
    {
     "name": "stdout",
     "output_type": "stream",
     "text": [
      "0.04196613281965256\n",
      "1/1 [==============================] - 0s 1ms/step - loss: 0.0403\n",
      "0.04028040170669556\n",
      "1/1 [==============================] - 0s 1ms/step - loss: 0.0446\n",
      "0.04459201917052269\n",
      "1/1 [==============================] - 0s 2ms/step - loss: 0.0434\n"
     ]
    },
    {
     "name": "stderr",
     "output_type": "stream",
     "text": [
      " 78%|███████▊  | 156/200 [02:02<00:30,  1.45it/s]"
     ]
    },
    {
     "name": "stdout",
     "output_type": "stream",
     "text": [
      "0.04343770071864128\n",
      "1/1 [==============================] - 0s 2ms/step - loss: 0.0433\n",
      "0.043274782598018646\n",
      "1/1 [==============================] - 0s 1ms/step - loss: 0.0426\n",
      "0.04255610331892967\n",
      "1/1 [==============================] - 0s 1ms/step - loss: 0.0406\n"
     ]
    },
    {
     "name": "stderr",
     "output_type": "stream",
     "text": [
      " 78%|███████▊  | 157/200 [02:03<00:29,  1.46it/s]"
     ]
    },
    {
     "name": "stdout",
     "output_type": "stream",
     "text": [
      "0.04061075672507286\n",
      "1/1 [==============================] - 0s 2ms/step - loss: 0.0449\n",
      "0.044916749000549316\n",
      "1/1 [==============================] - 0s 2ms/step - loss: 0.0402\n",
      "0.04019024223089218\n",
      "1/1 [==============================] - 0s 2ms/step - loss: 0.0395\n"
     ]
    },
    {
     "name": "stderr",
     "output_type": "stream",
     "text": [
      " 79%|███████▉  | 158/200 [02:04<00:28,  1.46it/s]"
     ]
    },
    {
     "name": "stdout",
     "output_type": "stream",
     "text": [
      "0.03950376808643341\n",
      "1/1 [==============================] - 0s 2ms/step - loss: 0.0391\n",
      "0.03909091651439667\n",
      "1/1 [==============================] - 0s 2ms/step - loss: 0.0402\n",
      "0.04021564871072769\n",
      "1/1 [==============================] - 0s 1ms/step - loss: 0.0435\n"
     ]
    },
    {
     "name": "stderr",
     "output_type": "stream",
     "text": [
      " 80%|███████▉  | 159/200 [02:04<00:27,  1.46it/s]"
     ]
    },
    {
     "name": "stdout",
     "output_type": "stream",
     "text": [
      "0.04349890351295471\n",
      "1/1 [==============================] - 0s 2ms/step - loss: 0.0387\n",
      "0.03873811662197113\n",
      "1/1 [==============================] - 0s 1ms/step - loss: 0.0390\n",
      "0.038957998156547546\n",
      "1/1 [==============================] - 0s 1ms/step - loss: 0.0434\n"
     ]
    },
    {
     "name": "stderr",
     "output_type": "stream",
     "text": [
      " 80%|████████  | 160/200 [02:05<00:27,  1.46it/s]"
     ]
    },
    {
     "name": "stdout",
     "output_type": "stream",
     "text": [
      "0.04339488968253136\n",
      "1/1 [==============================] - 0s 2ms/step - loss: 0.0378\n",
      "0.03779670596122742\n",
      "1/1 [==============================] - 0s 2ms/step - loss: 0.0435\n",
      "0.04348365589976311\n",
      "1/1 [==============================] - 0s 1ms/step - loss: 0.0382\n"
     ]
    },
    {
     "name": "stderr",
     "output_type": "stream",
     "text": [
      " 80%|████████  | 161/200 [02:06<00:26,  1.45it/s]"
     ]
    },
    {
     "name": "stdout",
     "output_type": "stream",
     "text": [
      "0.03815293312072754\n",
      "1/1 [==============================] - 0s 1ms/step - loss: 0.0384\n",
      "0.0383947491645813\n",
      "1/1 [==============================] - 0s 1ms/step - loss: 0.0432\n",
      "0.04322320222854614\n",
      "1/1 [==============================] - 0s 2ms/step - loss: 0.0362\n"
     ]
    },
    {
     "name": "stderr",
     "output_type": "stream",
     "text": [
      " 81%|████████  | 162/200 [02:06<00:26,  1.44it/s]"
     ]
    },
    {
     "name": "stdout",
     "output_type": "stream",
     "text": [
      "0.03620775043964386\n",
      "1/1 [==============================] - 0s 1ms/step - loss: 0.0365\n",
      "0.0365276038646698\n",
      "1/1 [==============================] - 0s 2ms/step - loss: 0.0402\n",
      "0.04015909507870674\n",
      "1/1 [==============================] - 0s 1ms/step - loss: 0.0396\n"
     ]
    },
    {
     "name": "stderr",
     "output_type": "stream",
     "text": [
      " 82%|████████▏ | 163/200 [02:07<00:26,  1.41it/s]"
     ]
    },
    {
     "name": "stdout",
     "output_type": "stream",
     "text": [
      "0.039570197463035583\n",
      "1/1 [==============================] - 0s 2ms/step - loss: 0.0360\n",
      "0.035991571843624115\n",
      "1/1 [==============================] - 0s 1ms/step - loss: 0.0369\n",
      "0.03693787381052971\n",
      "1/1 [==============================] - 0s 1ms/step - loss: 0.0418\n"
     ]
    },
    {
     "name": "stderr",
     "output_type": "stream",
     "text": [
      " 82%|████████▏ | 164/200 [02:08<00:25,  1.42it/s]"
     ]
    },
    {
     "name": "stdout",
     "output_type": "stream",
     "text": [
      "0.04181131720542908\n",
      "1/1 [==============================] - 0s 1ms/step - loss: 0.0405\n",
      "0.04054313525557518\n",
      "1/1 [==============================] - 0s 2ms/step - loss: 0.0371\n",
      "0.03711388260126114\n",
      "1/1 [==============================] - 0s 1ms/step - loss: 0.0357\n"
     ]
    },
    {
     "name": "stderr",
     "output_type": "stream",
     "text": [
      " 82%|████████▎ | 165/200 [02:09<00:24,  1.42it/s]"
     ]
    },
    {
     "name": "stdout",
     "output_type": "stream",
     "text": [
      "0.035658836364746094\n",
      "1/1 [==============================] - 0s 1ms/step - loss: 0.0367\n",
      "0.036724500358104706\n",
      "1/1 [==============================] - 0s 1ms/step - loss: 0.0357\n",
      "0.035675935447216034\n",
      "1/1 [==============================] - 0s 992us/step - loss: 0.0395\n"
     ]
    },
    {
     "name": "stderr",
     "output_type": "stream",
     "text": [
      " 83%|████████▎ | 166/200 [02:09<00:23,  1.44it/s]"
     ]
    },
    {
     "name": "stdout",
     "output_type": "stream",
     "text": [
      "0.039452459663152695\n",
      "1/1 [==============================] - 0s 1ms/step - loss: 0.0353\n",
      "0.03533749282360077\n",
      "1/1 [==============================] - 0s 1ms/step - loss: 0.0376\n",
      "0.03762777894735336\n",
      "1/1 [==============================] - 0s 1ms/step - loss: 0.0376\n"
     ]
    },
    {
     "name": "stderr",
     "output_type": "stream",
     "text": [
      " 84%|████████▎ | 167/200 [02:10<00:22,  1.45it/s]"
     ]
    },
    {
     "name": "stdout",
     "output_type": "stream",
     "text": [
      "0.03756095841526985\n",
      "1/1 [==============================] - 0s 2ms/step - loss: 0.0348\n",
      "0.034751929342746735\n",
      "1/1 [==============================] - 0s 1ms/step - loss: 0.0403\n",
      "0.04033391922712326\n",
      "1/1 [==============================] - 0s 2ms/step - loss: 0.0341\n"
     ]
    },
    {
     "name": "stderr",
     "output_type": "stream",
     "text": [
      " 84%|████████▍ | 168/200 [02:11<00:22,  1.45it/s]"
     ]
    },
    {
     "name": "stdout",
     "output_type": "stream",
     "text": [
      "0.034109927713871\n",
      "1/1 [==============================] - 0s 1ms/step - loss: 0.0367\n",
      "0.03674280270934105\n",
      "1/1 [==============================] - 0s 2ms/step - loss: 0.0367\n",
      "0.03674591705203056\n",
      "1/1 [==============================] - 0s 2ms/step - loss: 0.0344\n"
     ]
    },
    {
     "name": "stderr",
     "output_type": "stream",
     "text": [
      " 84%|████████▍ | 169/200 [02:11<00:21,  1.45it/s]"
     ]
    },
    {
     "name": "stdout",
     "output_type": "stream",
     "text": [
      "0.034440137445926666\n",
      "1/1 [==============================] - 0s 1ms/step - loss: 0.0363\n",
      "0.03625988960266113\n",
      "1/1 [==============================] - 0s 2ms/step - loss: 0.0367\n",
      "0.03666383773088455\n",
      "1/1 [==============================] - 0s 2ms/step - loss: 0.0338\n"
     ]
    },
    {
     "name": "stderr",
     "output_type": "stream",
     "text": [
      " 85%|████████▌ | 170/200 [02:12<00:21,  1.43it/s]"
     ]
    },
    {
     "name": "stdout",
     "output_type": "stream",
     "text": [
      "0.03379170224070549\n",
      "1/1 [==============================] - 0s 1ms/step - loss: 0.0356\n",
      "0.03558507561683655\n",
      "1/1 [==============================] - 0s 1ms/step - loss: 0.0337\n",
      "0.03367304801940918\n",
      "1/1 [==============================] - 0s 2ms/step - loss: 0.0362\n"
     ]
    },
    {
     "name": "stderr",
     "output_type": "stream",
     "text": [
      " 86%|████████▌ | 171/200 [02:13<00:20,  1.41it/s]"
     ]
    },
    {
     "name": "stdout",
     "output_type": "stream",
     "text": [
      "0.036233387887477875\n",
      "1/1 [==============================] - 0s 2ms/step - loss: 0.0352\n",
      "0.03517131507396698\n",
      "1/1 [==============================] - 0s 2ms/step - loss: 0.0353\n",
      "0.0353335365653038\n",
      "1/1 [==============================] - 0s 2ms/step - loss: 0.0339\n"
     ]
    },
    {
     "name": "stderr",
     "output_type": "stream",
     "text": [
      " 86%|████████▌ | 172/200 [02:14<00:20,  1.37it/s]"
     ]
    },
    {
     "name": "stdout",
     "output_type": "stream",
     "text": [
      "0.0338500440120697\n",
      "1/1 [==============================] - 0s 1ms/step - loss: 0.0357\n",
      "0.03565260395407677\n",
      "1/1 [==============================] - 0s 2ms/step - loss: 0.0328\n",
      "0.032773107290267944\n",
      "1/1 [==============================] - 0s 1ms/step - loss: 0.0348\n"
     ]
    },
    {
     "name": "stderr",
     "output_type": "stream",
     "text": [
      " 86%|████████▋ | 173/200 [02:14<00:19,  1.39it/s]"
     ]
    },
    {
     "name": "stdout",
     "output_type": "stream",
     "text": [
      "0.034835558384656906\n",
      "1/1 [==============================] - 0s 1ms/step - loss: 0.0323\n",
      "0.032347701489925385\n",
      "1/1 [==============================] - 0s 2ms/step - loss: 0.0366\n",
      "0.03658119589090347\n",
      "1/1 [==============================] - 0s 1ms/step - loss: 0.0332\n"
     ]
    },
    {
     "name": "stderr",
     "output_type": "stream",
     "text": [
      " 87%|████████▋ | 174/200 [02:15<00:18,  1.41it/s]"
     ]
    },
    {
     "name": "stdout",
     "output_type": "stream",
     "text": [
      "0.033244505524635315\n",
      "1/1 [==============================] - 0s 2ms/step - loss: 0.0317\n",
      "0.03171040117740631\n",
      "1/1 [==============================] - 0s 999us/step - loss: 0.0353\n",
      "0.03527306765317917\n",
      "1/1 [==============================] - 0s 1ms/step - loss: 0.0342\n"
     ]
    },
    {
     "name": "stderr",
     "output_type": "stream",
     "text": [
      " 88%|████████▊ | 175/200 [02:16<00:17,  1.41it/s]"
     ]
    },
    {
     "name": "stdout",
     "output_type": "stream",
     "text": [
      "0.034159354865550995\n",
      "1/1 [==============================] - 0s 2ms/step - loss: 0.0334\n",
      "0.0333806611597538\n",
      "1/1 [==============================] - 0s 1ms/step - loss: 0.0334\n",
      "0.03341350704431534\n",
      "1/1 [==============================] - 0s 2ms/step - loss: 0.0333\n"
     ]
    },
    {
     "name": "stderr",
     "output_type": "stream",
     "text": [
      " 88%|████████▊ | 176/200 [02:16<00:17,  1.41it/s]"
     ]
    },
    {
     "name": "stdout",
     "output_type": "stream",
     "text": [
      "0.033320583403110504\n",
      "1/1 [==============================] - 0s 1ms/step - loss: 0.0328\n",
      "0.032791342586278915\n",
      "1/1 [==============================] - 0s 1ms/step - loss: 0.0338\n",
      "0.03382280096411705\n",
      "1/1 [==============================] - 0s 2ms/step - loss: 0.0326\n"
     ]
    },
    {
     "name": "stderr",
     "output_type": "stream",
     "text": [
      " 88%|████████▊ | 177/200 [02:17<00:16,  1.40it/s]"
     ]
    },
    {
     "name": "stdout",
     "output_type": "stream",
     "text": [
      "0.032563939690589905\n",
      "1/1 [==============================] - 0s 999us/step - loss: 0.0324\n",
      "0.03236258402466774\n",
      "1/1 [==============================] - 0s 2ms/step - loss: 0.0335\n",
      "0.03348936885595322\n",
      "1/1 [==============================] - 0s 2ms/step - loss: 0.0324\n"
     ]
    },
    {
     "name": "stderr",
     "output_type": "stream",
     "text": [
      " 89%|████████▉ | 178/200 [02:18<00:15,  1.42it/s]"
     ]
    },
    {
     "name": "stdout",
     "output_type": "stream",
     "text": [
      "0.032381728291511536\n",
      "1/1 [==============================] - 0s 998us/step - loss: 0.0340\n",
      "0.033997926861047745\n",
      "1/1 [==============================] - 0s 1ms/step - loss: 0.0333\n",
      "0.033254317939281464\n",
      "1/1 [==============================] - 0s 1ms/step - loss: 0.0301\n"
     ]
    },
    {
     "name": "stderr",
     "output_type": "stream",
     "text": [
      " 90%|████████▉ | 179/200 [02:18<00:14,  1.47it/s]"
     ]
    },
    {
     "name": "stdout",
     "output_type": "stream",
     "text": [
      "0.030080677941441536\n",
      "1/1 [==============================] - 0s 2ms/step - loss: 0.0342\n",
      "0.034240324050188065\n",
      "1/1 [==============================] - 0s 2ms/step - loss: 0.0318\n",
      "0.03180219233036041\n",
      "1/1 [==============================] - 0s 2ms/step - loss: 0.0304\n"
     ]
    },
    {
     "name": "stderr",
     "output_type": "stream",
     "text": [
      " 90%|█████████ | 180/200 [02:19<00:13,  1.47it/s]"
     ]
    },
    {
     "name": "stdout",
     "output_type": "stream",
     "text": [
      "0.030430927872657776\n",
      "1/1 [==============================] - 0s 1ms/step - loss: 0.0334\n",
      "0.0333707332611084\n",
      "1/1 [==============================] - 0s 1ms/step - loss: 0.0300\n",
      "0.0299996230751276\n",
      "1/1 [==============================] - 0s 1ms/step - loss: 0.0322\n"
     ]
    },
    {
     "name": "stderr",
     "output_type": "stream",
     "text": [
      " 90%|█████████ | 181/200 [02:20<00:12,  1.48it/s]"
     ]
    },
    {
     "name": "stdout",
     "output_type": "stream",
     "text": [
      "0.03220692649483681\n",
      "1/1 [==============================] - 0s 2ms/step - loss: 0.0315\n",
      "0.03150691092014313\n",
      "1/1 [==============================] - 0s 2ms/step - loss: 0.0302\n",
      "0.030201682820916176\n",
      "1/1 [==============================] - 0s 993us/step - loss: 0.0330\n"
     ]
    },
    {
     "name": "stderr",
     "output_type": "stream",
     "text": [
      " 91%|█████████ | 182/200 [02:20<00:12,  1.47it/s]"
     ]
    },
    {
     "name": "stdout",
     "output_type": "stream",
     "text": [
      "0.032983362674713135\n",
      "1/1 [==============================] - 0s 1ms/step - loss: 0.0315\n",
      "0.03150957077741623\n",
      "1/1 [==============================] - 0s 1ms/step - loss: 0.0307\n",
      "0.030713709071278572\n",
      "1/1 [==============================] - 0s 1ms/step - loss: 0.0317\n"
     ]
    },
    {
     "name": "stderr",
     "output_type": "stream",
     "text": [
      " 92%|█████████▏| 183/200 [02:21<00:11,  1.48it/s]"
     ]
    },
    {
     "name": "stdout",
     "output_type": "stream",
     "text": [
      "0.031682033091783524\n",
      "1/1 [==============================] - 0s 1ms/step - loss: 0.0314\n",
      "0.031401488929986954\n",
      "1/1 [==============================] - 0s 1ms/step - loss: 0.0310\n",
      "0.031018614768981934\n",
      "1/1 [==============================] - 0s 1ms/step - loss: 0.0307\n"
     ]
    },
    {
     "name": "stderr",
     "output_type": "stream",
     "text": [
      " 92%|█████████▏| 184/200 [02:22<00:10,  1.49it/s]"
     ]
    },
    {
     "name": "stdout",
     "output_type": "stream",
     "text": [
      "0.030665863305330276\n",
      "1/1 [==============================] - 0s 1ms/step - loss: 0.0302\n",
      "0.03020261786878109\n",
      "1/1 [==============================] - 0s 2ms/step - loss: 0.0298\n",
      "0.029782447963953018\n",
      "1/1 [==============================] - 0s 1ms/step - loss: 0.0323\n"
     ]
    },
    {
     "name": "stderr",
     "output_type": "stream",
     "text": [
      " 92%|█████████▎| 185/200 [02:23<00:12,  1.17it/s]"
     ]
    },
    {
     "name": "stdout",
     "output_type": "stream",
     "text": [
      "0.03234505280852318\n",
      "1/1 [==============================] - 0s 1ms/step - loss: 0.0315\n",
      "0.03146953880786896\n",
      "1/1 [==============================] - 0s 2ms/step - loss: 0.0302\n",
      "0.030158203095197678\n",
      "1/1 [==============================] - 0s 990us/step - loss: 0.0299\n"
     ]
    },
    {
     "name": "stderr",
     "output_type": "stream",
     "text": [
      " 93%|█████████▎| 186/200 [02:24<00:11,  1.27it/s]"
     ]
    },
    {
     "name": "stdout",
     "output_type": "stream",
     "text": [
      "0.02992500737309456\n",
      "1/1 [==============================] - 0s 2ms/step - loss: 0.0303\n",
      "0.030317412689328194\n",
      "1/1 [==============================] - 0s 1ms/step - loss: 0.0300\n",
      "0.029992828145623207\n",
      "1/1 [==============================] - 0s 2ms/step - loss: 0.0305\n"
     ]
    },
    {
     "name": "stderr",
     "output_type": "stream",
     "text": [
      " 94%|█████████▎| 187/200 [02:24<00:09,  1.34it/s]"
     ]
    },
    {
     "name": "stdout",
     "output_type": "stream",
     "text": [
      "0.030467765405774117\n",
      "1/1 [==============================] - 0s 2ms/step - loss: 0.0287\n",
      "0.028672784566879272\n",
      "1/1 [==============================] - 0s 1ms/step - loss: 0.0322\n",
      "0.032203081995248795\n",
      "1/1 [==============================] - 0s 2ms/step - loss: 0.0292\n"
     ]
    },
    {
     "name": "stderr",
     "output_type": "stream",
     "text": [
      " 94%|█████████▍| 188/200 [02:25<00:08,  1.38it/s]"
     ]
    },
    {
     "name": "stdout",
     "output_type": "stream",
     "text": [
      "0.02916279062628746\n",
      "1/1 [==============================] - 0s 1ms/step - loss: 0.0301\n",
      "0.030146285891532898\n",
      "1/1 [==============================] - 0s 2ms/step - loss: 0.0307\n",
      "0.03065447509288788\n",
      "1/1 [==============================] - 0s 1ms/step - loss: 0.0284\n"
     ]
    },
    {
     "name": "stderr",
     "output_type": "stream",
     "text": [
      " 94%|█████████▍| 189/200 [02:26<00:07,  1.44it/s]"
     ]
    },
    {
     "name": "stdout",
     "output_type": "stream",
     "text": [
      "0.028432480990886688\n",
      "1/1 [==============================] - 0s 2ms/step - loss: 0.0290\n",
      "0.028973113745450974\n",
      "1/1 [==============================] - 0s 1ms/step - loss: 0.0290\n",
      "0.029004842042922974\n",
      "1/1 [==============================] - 0s 1ms/step - loss: 0.0306\n"
     ]
    },
    {
     "name": "stderr",
     "output_type": "stream",
     "text": [
      " 95%|█████████▌| 190/200 [02:26<00:07,  1.43it/s]"
     ]
    },
    {
     "name": "stdout",
     "output_type": "stream",
     "text": [
      "0.030553456395864487\n",
      "1/1 [==============================] - 0s 2ms/step - loss: 0.0294\n",
      "0.02941850945353508\n",
      "1/1 [==============================] - 0s 2ms/step - loss: 0.0284\n",
      "0.02837352082133293\n",
      "1/1 [==============================] - 0s 2ms/step - loss: 0.0301\n"
     ]
    },
    {
     "name": "stderr",
     "output_type": "stream",
     "text": [
      " 96%|█████████▌| 191/200 [02:27<00:06,  1.42it/s]"
     ]
    },
    {
     "name": "stdout",
     "output_type": "stream",
     "text": [
      "0.03008178062736988\n",
      "1/1 [==============================] - 0s 1ms/step - loss: 0.0312\n",
      "0.03115725703537464\n",
      "1/1 [==============================] - 0s 1ms/step - loss: 0.0283\n",
      "0.02828856185078621\n",
      "1/1 [==============================] - 0s 1ms/step - loss: 0.0277\n"
     ]
    },
    {
     "name": "stderr",
     "output_type": "stream",
     "text": [
      " 96%|█████████▌| 192/200 [02:28<00:05,  1.45it/s]"
     ]
    },
    {
     "name": "stdout",
     "output_type": "stream",
     "text": [
      "0.027723215520381927\n",
      "1/1 [==============================] - 0s 2ms/step - loss: 0.0296\n",
      "0.02962515689432621\n",
      "1/1 [==============================] - 0s 2ms/step - loss: 0.0274\n",
      "0.027362175285816193\n",
      "1/1 [==============================] - 0s 1ms/step - loss: 0.0295\n"
     ]
    },
    {
     "name": "stderr",
     "output_type": "stream",
     "text": [
      " 96%|█████████▋| 193/200 [02:28<00:04,  1.42it/s]"
     ]
    },
    {
     "name": "stdout",
     "output_type": "stream",
     "text": [
      "0.029520245268940926\n",
      "1/1 [==============================] - 0s 1ms/step - loss: 0.0288\n",
      "0.028806904330849648\n",
      "1/1 [==============================] - 0s 2ms/step - loss: 0.0290\n",
      "0.029016654938459396\n",
      "1/1 [==============================] - 0s 2ms/step - loss: 0.0280\n"
     ]
    },
    {
     "name": "stderr",
     "output_type": "stream",
     "text": [
      " 97%|█████████▋| 194/200 [02:29<00:04,  1.44it/s]"
     ]
    },
    {
     "name": "stdout",
     "output_type": "stream",
     "text": [
      "0.028037460520863533\n",
      "1/1 [==============================] - 0s 2ms/step - loss: 0.0303\n",
      "0.0302964448928833\n",
      "1/1 [==============================] - 0s 2ms/step - loss: 0.0272\n",
      "0.027176477015018463\n",
      "1/1 [==============================] - 0s 2ms/step - loss: 0.0278\n"
     ]
    },
    {
     "name": "stderr",
     "output_type": "stream",
     "text": [
      " 98%|█████████▊| 195/200 [02:30<00:03,  1.45it/s]"
     ]
    },
    {
     "name": "stdout",
     "output_type": "stream",
     "text": [
      "0.027752749621868134\n",
      "1/1 [==============================] - 0s 2ms/step - loss: 0.0273\n",
      "0.027305442839860916\n",
      "1/1 [==============================] - 0s 2ms/step - loss: 0.0275\n",
      "0.027500925585627556\n",
      "1/1 [==============================] - 0s 2ms/step - loss: 0.0298\n"
     ]
    },
    {
     "name": "stderr",
     "output_type": "stream",
     "text": [
      " 98%|█████████▊| 196/200 [02:31<00:02,  1.44it/s]"
     ]
    },
    {
     "name": "stdout",
     "output_type": "stream",
     "text": [
      "0.02984660305082798\n",
      "1/1 [==============================] - 0s 992us/step - loss: 0.0288\n",
      "0.028807953000068665\n",
      "1/1 [==============================] - 0s 2ms/step - loss: 0.0290\n",
      "0.028980053961277008\n",
      "1/1 [==============================] - 0s 1ms/step - loss: 0.0263\n"
     ]
    },
    {
     "name": "stderr",
     "output_type": "stream",
     "text": [
      " 98%|█████████▊| 197/200 [02:31<00:02,  1.43it/s]"
     ]
    },
    {
     "name": "stdout",
     "output_type": "stream",
     "text": [
      "0.026311304420232773\n",
      "1/1 [==============================] - 0s 1ms/step - loss: 0.0280\n",
      "0.027985448017716408\n",
      "1/1 [==============================] - 0s 1ms/step - loss: 0.0284\n",
      "0.028420167043805122\n",
      "1/1 [==============================] - 0s 1ms/step - loss: 0.0273\n"
     ]
    },
    {
     "name": "stderr",
     "output_type": "stream",
     "text": [
      " 99%|█████████▉| 198/200 [02:32<00:01,  1.41it/s]"
     ]
    },
    {
     "name": "stdout",
     "output_type": "stream",
     "text": [
      "0.027258865535259247\n",
      "1/1 [==============================] - 0s 1ms/step - loss: 0.0292\n",
      "0.029163995757699013\n",
      "1/1 [==============================] - 0s 2ms/step - loss: 0.0263\n",
      "0.02634311467409134\n",
      "1/1 [==============================] - 0s 1ms/step - loss: 0.0277\n"
     ]
    },
    {
     "name": "stderr",
     "output_type": "stream",
     "text": [
      "100%|█████████▉| 199/200 [02:33<00:00,  1.41it/s]"
     ]
    },
    {
     "name": "stdout",
     "output_type": "stream",
     "text": [
      "0.027724534273147583\n",
      "1/1 [==============================] - 0s 2ms/step - loss: 0.0276\n",
      "0.027592696249485016\n",
      "1/1 [==============================] - 0s 2ms/step - loss: 0.0277\n",
      "0.027704862877726555\n",
      "1/1 [==============================] - 0s 2ms/step - loss: 0.0276\n"
     ]
    },
    {
     "name": "stderr",
     "output_type": "stream",
     "text": [
      "100%|██████████| 200/200 [02:33<00:00,  1.30it/s]"
     ]
    },
    {
     "name": "stdout",
     "output_type": "stream",
     "text": [
      "0.02762201987206936\n"
     ]
    },
    {
     "name": "stderr",
     "output_type": "stream",
     "text": [
      "\n"
     ]
    }
   ],
   "source": [
    "train_gan(GAN, newData, batch_size, noise_size)"
   ]
  },
  {
   "cell_type": "code",
   "execution_count": 17,
   "id": "outstanding-theta",
   "metadata": {},
   "outputs": [
    {
     "data": {
      "text/plain": [
       "<AxesSubplot:>"
      ]
     },
     "execution_count": 17,
     "metadata": {},
     "output_type": "execute_result"
    },
    {
     "data": {
      "image/png": "[encoded data removed]",
      "text/plain": [
       "<Figure size 432x288 with 1 Axes>"
      ]
     },
     "metadata": {
      "needs_background": "light"
     },
     "output_type": "display_data"
    }
   ],
   "source": [
    "pd.DataFrame(GAN.layers[0](tf.random.normal(shape = (batch_size, time_length, noise_size))).numpy()[0]).plot()"
   ]
  },
  {
   "cell_type": "code",
   "execution_count": null,
   "id": "unlimited-visibility",
   "metadata": {},
   "outputs": [],
   "source": []
  }
 ],
 "metadata": {
  "kernelspec": {
   "display_name": "Python 3",
   "language": "python",
   "name": "python3"
  },
  "language_info": {
   "codemirror_mode": {
    "name": "ipython",
    "version": 3
   },
   "file_extension": ".py",
   "mimetype": "text/x-python",
   "name": "python",
   "nbconvert_exporter": "python",
   "pygments_lexer": "ipython3",
   "version": "3.8.5"
  }
 },
 "nbformat": 4,
 "nbformat_minor": 5
}
